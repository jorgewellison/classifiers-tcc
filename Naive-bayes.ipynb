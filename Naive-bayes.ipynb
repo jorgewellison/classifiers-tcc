{
  "nbformat": 4,
  "nbformat_minor": 0,
  "metadata": {
    "colab": {
      "name": "Naive Bayes - Análise preditiva da incidência e mortalidade da COVID-19.ipynb",
      "provenance": [],
      "toc_visible": true,
      "mount_file_id": "1srHf6vYH9BATl08kuAI2e7u2C-sK9yA6",
      "authorship_tag": "ABX9TyOmV6nATZAWEBMJLqqlUPsy",
      "include_colab_link": true
    },
    "kernelspec": {
      "name": "python3",
      "display_name": "Python 3"
    }
  },
  "cells": [
    {
      "cell_type": "markdown",
      "metadata": {
        "id": "view-in-github",
        "colab_type": "text"
      },
      "source": [
        "<a href=\"https://colab.research.google.com/github/jorgewellison/classifiers-tcc/blob/main/Naive-bayes.ipynb\" target=\"_parent\"><img src=\"https://colab.research.google.com/assets/colab-badge.svg\" alt=\"Open In Colab\"/></a>"
      ]
    },
    {
      "cell_type": "markdown",
      "metadata": {
        "id": "EEUc8VhJVe2z"
      },
      "source": [
        "#**Configurações iniciais**"
      ]
    },
    {
      "cell_type": "code",
      "metadata": {
        "id": "gGBTcftc7Dz7",
        "colab": {
          "base_uri": "https://localhost:8080/"
        },
        "outputId": "f61d5778-d633-43dc-db28-ed5719b1b4e8"
      },
      "source": [
        "from google.colab import drive\n",
        "drive.mount('/content/drive')"
      ],
      "execution_count": 1,
      "outputs": [
        {
          "output_type": "stream",
          "text": [
            "Drive already mounted at /content/drive; to attempt to forcibly remount, call drive.mount(\"/content/drive\", force_remount=True).\n"
          ],
          "name": "stdout"
        }
      ]
    },
    {
      "cell_type": "markdown",
      "metadata": {
        "id": "Rfuyj56F_ibU"
      },
      "source": [
        "**Importação das bibliotecas**"
      ]
    },
    {
      "cell_type": "code",
      "metadata": {
        "id": "xUoD9d9udQ7e"
      },
      "source": [
        "import pandas as pd\n",
        "import numpy as np\n",
        "from numpy import mean\n",
        "from numpy import std\n",
        "import seaborn as sns\n",
        "from numpy import nper\n",
        "from sklearn.naive_bayes import GaussianNB\n",
        "from sklearn.preprocessing import LabelEncoder\n",
        "from sklearn.metrics import confusion_matrix, accuracy_score\n",
        "from sklearn.metrics import make_scorer, confusion_matrix, accuracy_score, precision_score, recall_score, f1_score\n",
        "import sklearn.metrics as metrics\n",
        "import matplotlib.pyplot as plt\n",
        "from yellowbrick.classifier import ConfusionMatrix\n",
        "from sklearn.model_selection import cross_val_score, cross_val_predict, KFold, cross_validate\n",
        "from sklearn import preprocessing\n",
        "from sklearn.naive_bayes import MultinomialNB\n",
        "from sklearn.feature_extraction.text import CountVectorizer\n",
        "from sklearn.feature_extraction import DictVectorizer\n",
        "from sklearn.preprocessing import LabelEncoder\n",
        "\n",
        "\n"
      ],
      "execution_count": 60,
      "outputs": []
    },
    {
      "cell_type": "markdown",
      "metadata": {
        "id": "wPj8tkmaV1fi"
      },
      "source": [
        "**Importando previsores e classe (tratados no pré-processamento)**\n",
        "\n",
        "previsores -> variáveis independentes - X\n",
        "\n",
        "---\n",
        "\n",
        "classe -> variável dependente - y"
      ]
    },
    {
      "cell_type": "code",
      "metadata": {
        "id": "iJQWVjdVP-y0"
      },
      "source": [
        "previsores = pd.read_csv(\"/content/drive/My Drive/Colab Notebooks/covid-idhm/previsores_.csv\") \n",
        "classe_inc = pd.read_csv(\"/content/drive/My Drive/Colab Notebooks/covid-idhm/classe_inc.csv\") \n",
        "classe_mort = pd.read_csv(\"/content/drive/My Drive/Colab Notebooks/covid-idhm/classe_mort.csv\")"
      ],
      "execution_count": 3,
      "outputs": []
    },
    {
      "cell_type": "markdown",
      "metadata": {
        "id": "7A8NJ7eCDsch"
      },
      "source": [
        "#**Criação, treinamento dos modelos e visualização de atributos mais importantes**"
      ]
    },
    {
      "cell_type": "markdown",
      "metadata": {
        "id": "m-J48fzKKsVO"
      },
      "source": [
        "##**Incidência**##"
      ]
    },
    {
      "cell_type": "markdown",
      "metadata": {
        "id": "XdvZkpl5Llzn"
      },
      "source": [
        "**Treinamento**\n",
        "\n",
        "---\n",
        "\n"
      ]
    },
    {
      "cell_type": "code",
      "metadata": {
        "id": "p6vi13MiphD2",
        "colab": {
          "base_uri": "https://localhost:8080/"
        },
        "outputId": "2cfd89cc-00c5-40e5-88a3-64bdac992565"
      },
      "source": [
        "naive_bayes_inc = MultinomialNB()\n",
        "naive_bayes_inc.fit(previsores, classe_inc.values.ravel())"
      ],
      "execution_count": 42,
      "outputs": [
        {
          "output_type": "execute_result",
          "data": {
            "text/plain": [
              "MultinomialNB(alpha=1.0, class_prior=None, fit_prior=True)"
            ]
          },
          "metadata": {
            "tags": []
          },
          "execution_count": 42
        }
      ]
    },
    {
      "cell_type": "markdown",
      "metadata": {
        "id": "nOPjPRn5LnzV"
      },
      "source": [
        "**Obtenção dos atributos mais importantes**\n",
        "\n",
        "---"
      ]
    },
    {
      "cell_type": "code",
      "metadata": {
        "id": "w-wo0v3rVt6V"
      },
      "source": [
        "count_vect = CountVectorizer() \n",
        "final_counts = count_vect.fit_transform(previsores)"
      ],
      "execution_count": 44,
      "outputs": []
    },
    {
      "cell_type": "code",
      "metadata": {
        "id": "1poEnGfNTZ3B"
      },
      "source": [
        "previsores_prob_sorted = naive_bayes_inc.feature_log_prob_[0, :].argsort()"
      ],
      "execution_count": 43,
      "outputs": []
    },
    {
      "cell_type": "code",
      "metadata": {
        "colab": {
          "base_uri": "https://localhost:8080/"
        },
        "id": "6Zu9kEEGVGCP",
        "outputId": "d79989c0-9126-4174-84a3-bfc17e98a5c0"
      },
      "source": [
        "nb_importances = (np.take(count_vect.get_feature_names(), previsores_prob_sorted[-10:]))\n",
        "print(nb_importances)"
      ],
      "execution_count": 79,
      "outputs": [
        {
          "output_type": "stream",
          "text": [
            "['t_banagua' 't_crifundin_todos' 'p_med' 't_ocupdesloc_1'\n",
            " 't_nestuda_ntrab_mmeio' 't_mulchefefif014' 't_sluz' 't_super25m'\n",
            " 't_rmaxidoso' 'trabsc']\n"
          ],
          "name": "stdout"
        }
      ]
    },
    {
      "cell_type": "markdown",
      "metadata": {
        "id": "O2WOkdwvLwRq"
      },
      "source": [
        "**Representação de atributos mais importantes em forma de gráfico**\n",
        "\n",
        "---\n",
        "\n",
        "\n"
      ]
    },
    {
      "cell_type": "code",
      "metadata": {
        "id": "PoxC_OOZ3_jg"
      },
      "source": [
        "#Gerar gráfico com os detalhes de cada atributo"
      ],
      "execution_count": null,
      "outputs": []
    },
    {
      "cell_type": "markdown",
      "metadata": {
        "id": "u3MTNqjnKyqE"
      },
      "source": [
        "##**Mortalidade**##"
      ]
    },
    {
      "cell_type": "markdown",
      "metadata": {
        "id": "LTNk8D_SL07w"
      },
      "source": [
        "**Treinamento**\n",
        "\n",
        "---\n",
        "\n"
      ]
    },
    {
      "cell_type": "code",
      "metadata": {
        "id": "4oYqpFDV_h_n",
        "colab": {
          "base_uri": "https://localhost:8080/"
        },
        "outputId": "609e0a73-a2e3-4272-c64c-860613e2d2c5"
      },
      "source": [
        "naive_bayes_mort = MultinomialNB()\n",
        "naive_bayes_mort.fit(previsores, classe_mort.values.ravel())"
      ],
      "execution_count": 75,
      "outputs": [
        {
          "output_type": "execute_result",
          "data": {
            "text/plain": [
              "MultinomialNB(alpha=1.0, class_prior=None, fit_prior=True)"
            ]
          },
          "metadata": {
            "tags": []
          },
          "execution_count": 75
        }
      ]
    },
    {
      "cell_type": "markdown",
      "metadata": {
        "id": "eXsbjvDRgAH8"
      },
      "source": [
        "**Obtenção dos atributos mais importantes**\n",
        "\n",
        "---"
      ]
    },
    {
      "cell_type": "code",
      "metadata": {
        "id": "A_4LzvECgAH8"
      },
      "source": [
        "previsores_prob_sorted2 = naive_bayes_mort.feature_log_prob_[0, :].argsort()"
      ],
      "execution_count": 81,
      "outputs": []
    },
    {
      "cell_type": "code",
      "metadata": {
        "colab": {
          "base_uri": "https://localhost:8080/"
        },
        "id": "9qoEK8pfgAH9",
        "outputId": "bbf98239-28ba-400e-84bd-707534be6229"
      },
      "source": [
        "nb_importances2 = (np.take(count_vect.get_feature_names(), previsores_prob_sorted2[-10:]))\n",
        "print(nb_importances2)"
      ],
      "execution_count": 83,
      "outputs": [
        {
          "output_type": "stream",
          "text": [
            "['t_banagua' 't_crifundin_todos' 'p_med' 't_ocupdesloc_1'\n",
            " 't_nestuda_ntrab_mmeio' 't_mulchefefif014' 't_sluz' 't_super25m'\n",
            " 't_rmaxidoso' 'trabsc']\n"
          ],
          "name": "stdout"
        }
      ]
    },
    {
      "cell_type": "markdown",
      "metadata": {
        "id": "axkgKAwig-03"
      },
      "source": [
        "**Representação de atributos mais importantes em forma de gráfico**\n",
        "\n",
        "---\n",
        "\n",
        "\n"
      ]
    },
    {
      "cell_type": "code",
      "metadata": {
        "id": "tRno-TxihBmD"
      },
      "source": [
        "#Gerar gráfico com os detalhes de cada atributo"
      ],
      "execution_count": null,
      "outputs": []
    },
    {
      "cell_type": "markdown",
      "metadata": {
        "id": "pc_1NaP1hFuD"
      },
      "source": [
        "#**Testes com validação cruzada**"
      ]
    },
    {
      "cell_type": "markdown",
      "metadata": {
        "id": "-vpuQSMzQO1D"
      },
      "source": [
        "**Criação do KFold com 10 iterações e Shuffle para embaralhar as linhas, desagrupando os municipios de seus estados**"
      ]
    },
    {
      "cell_type": "code",
      "metadata": {
        "id": "JD4LvtYUQVDi"
      },
      "source": [
        "cv = KFold(n_splits=10, random_state=0, shuffle=True)"
      ],
      "execution_count": 84,
      "outputs": []
    },
    {
      "cell_type": "code",
      "metadata": {
        "id": "sVJY9SpdZpPr"
      },
      "source": [
        "scoring = {'accuracy' : make_scorer(accuracy_score), \n",
        "           'precision' : make_scorer(precision_score, average = 'macro'),\n",
        "           'recall' : make_scorer(recall_score, average = 'macro'), \n",
        "           'f1_score' : make_scorer(f1_score, average = 'macro')}"
      ],
      "execution_count": 87,
      "outputs": []
    },
    {
      "cell_type": "markdown",
      "metadata": {
        "id": "3R-0-yWKr6k7"
      },
      "source": [
        "##Testes de incidência##"
      ]
    },
    {
      "cell_type": "code",
      "metadata": {
        "id": "FrFw8q6kPHuk"
      },
      "source": [
        "#a função cross_validate recebe por parâmetro o modelo\n",
        "#todos os dados para treino, os dados de classes, a quandidade de folds e o metodo de avaliação\n",
        "\n",
        "scores = cross_validate(naive_bayes_inc, \n",
        "                        previsores, \n",
        "                        classe_inc.values.ravel(),\n",
        "                        cv=cv,\n",
        "                        scoring=scoring,\n",
        "                        return_train_score=False)"
      ],
      "execution_count": 89,
      "outputs": []
    },
    {
      "cell_type": "markdown",
      "metadata": {
        "id": "itxRXmuatJfO"
      },
      "source": [
        "###Avaliação dos testes###"
      ]
    },
    {
      "cell_type": "code",
      "metadata": {
        "colab": {
          "base_uri": "https://localhost:8080/"
        },
        "id": "EvJMAgkYpjo0",
        "outputId": "80c94653-eb17-467a-dc59-d959bcb88b29"
      },
      "source": [
        "scores"
      ],
      "execution_count": 90,
      "outputs": [
        {
          "output_type": "execute_result",
          "data": {
            "text/plain": [
              "{'fit_time': array([0.01179314, 0.00766087, 0.00730228, 0.00756121, 0.00753617,\n",
              "        0.00775743, 0.00754976, 0.00774789, 0.0076611 , 0.00756001]),\n",
              " 'score_time': array([0.00954247, 0.00507879, 0.00580907, 0.00514627, 0.00503874,\n",
              "        0.00519609, 0.00507092, 0.00527263, 0.00514269, 0.0050106 ]),\n",
              " 'test_accuracy': array([0.59066427, 0.60502693, 0.57809695, 0.5978456 , 0.56373429,\n",
              "        0.55755396, 0.60251799, 0.60791367, 0.60431655, 0.60071942]),\n",
              " 'test_f1_score': array([0.44133038, 0.42772147, 0.4282142 , 0.45240895, 0.42126178,\n",
              "        0.42050039, 0.44844227, 0.44328833, 0.43397368, 0.46762602]),\n",
              " 'test_precision': array([0.51205598, 0.47060851, 0.48853402, 0.53102419, 0.49317903,\n",
              "        0.54176951, 0.49243954, 0.49762556, 0.46166244, 0.53424338]),\n",
              " 'test_recall': array([0.46159931, 0.44458451, 0.45182743, 0.46807236, 0.43867652,\n",
              "        0.45496858, 0.4604457 , 0.45155917, 0.44544267, 0.48329977])}"
            ]
          },
          "metadata": {
            "tags": []
          },
          "execution_count": 90
        }
      ]
    },
    {
      "cell_type": "markdown",
      "metadata": {
        "id": "MgstSgEEsBtR"
      },
      "source": [
        "##Testes de mortalidade##"
      ]
    },
    {
      "cell_type": "code",
      "metadata": {
        "id": "z2C0eVlj_w7A"
      },
      "source": [
        "#a função cross_validate recebe por parâmetro o modelo\n",
        "#todos os dados para treino, os dados de classes, a quandidade de folds e o metodo de avaliação\n",
        "\n",
        "scores2 = cross_validate(naive_bayes_mort, \n",
        "                         previsores, \n",
        "                         classe_mort.values.ravel(),\n",
        "                         scoring=scoring,\n",
        "                         cv=cv,\n",
        "                         return_train_score=False)"
      ],
      "execution_count": 91,
      "outputs": []
    },
    {
      "cell_type": "markdown",
      "metadata": {
        "id": "27wrMjUotSp6"
      },
      "source": [
        "###Avaliação dos testes###"
      ]
    },
    {
      "cell_type": "code",
      "metadata": {
        "colab": {
          "base_uri": "https://localhost:8080/"
        },
        "id": "XZw5eT-rqbXX",
        "outputId": "45b9a669-fd69-45bb-a30d-c6ce15d2c306"
      },
      "source": [
        "scores2"
      ],
      "execution_count": 92,
      "outputs": [
        {
          "output_type": "execute_result",
          "data": {
            "text/plain": [
              "{'fit_time': array([0.01694536, 0.00794125, 0.0083096 , 0.00802875, 0.00753522,\n",
              "        0.00782704, 0.00745797, 0.00785589, 0.0074048 , 0.00732374]),\n",
              " 'score_time': array([0.00474787, 0.00526714, 0.00568962, 0.00518346, 0.00649285,\n",
              "        0.00529242, 0.00508761, 0.0052712 , 0.00514698, 0.00521064]),\n",
              " 'test_accuracy': array([0.57091562, 0.57450628, 0.53141831, 0.55655296, 0.5475763 ,\n",
              "        0.54496403, 0.55395683, 0.55935252, 0.55395683, 0.53956835]),\n",
              " 'test_f1_score': array([0.5058252 , 0.50049398, 0.46307774, 0.47520917, 0.47110427,\n",
              "        0.46192784, 0.48699106, 0.48432989, 0.50397171, 0.48119929]),\n",
              " 'test_precision': array([0.56027217, 0.57107407, 0.54084152, 0.54078376, 0.562421  ,\n",
              "        0.57451637, 0.57204004, 0.55970209, 0.54858413, 0.55884899]),\n",
              " 'test_recall': array([0.52507446, 0.52356513, 0.49268618, 0.48565487, 0.498414  ,\n",
              "        0.49100331, 0.51440856, 0.50836296, 0.52712585, 0.50991392])}"
            ]
          },
          "metadata": {
            "tags": []
          },
          "execution_count": 92
        }
      ]
    },
    {
      "cell_type": "markdown",
      "metadata": {
        "id": "QQuH1jyqn__3"
      },
      "source": [
        "# **Predição e Matriz de confusão**"
      ]
    },
    {
      "cell_type": "markdown",
      "metadata": {
        "id": "CNReNSvGBK66"
      },
      "source": [
        "### Predição e Matriz da incidência"
      ]
    },
    {
      "cell_type": "code",
      "metadata": {
        "id": "9A2ZXrvuq4ls",
        "colab": {
          "base_uri": "https://localhost:8080/"
        },
        "outputId": "95dc80a6-9c0e-4bf9-d7d1-11fbb8b9236d"
      },
      "source": [
        "predictions = cross_val_predict(naive_bayes_inc, previsores, classe_inc.values.ravel(), cv=cv)\n",
        "confusao = confusion_matrix(classe_inc, predictions)\n",
        "confusao"
      ],
      "execution_count": 94,
      "outputs": [
        {
          "output_type": "execute_result",
          "data": {
            "text/plain": [
              "array([[1062,  177, 1395],\n",
              "       [  51,   38,  342],\n",
              "       [ 145,  167, 2188]])"
            ]
          },
          "metadata": {
            "tags": []
          },
          "execution_count": 94
        }
      ]
    },
    {
      "cell_type": "markdown",
      "metadata": {
        "id": "WRPYHSaiBPZQ"
      },
      "source": [
        "### Predição e Matriz da mortalidade"
      ]
    },
    {
      "cell_type": "code",
      "metadata": {
        "id": "NhvCjKyFATS1",
        "colab": {
          "base_uri": "https://localhost:8080/"
        },
        "outputId": "cd96d23c-58c2-44eb-ffae-387b10e1ccf7"
      },
      "source": [
        "predictions2 = cross_val_predict(naive_bayes_mort, previsores, classe_mort.values.ravel(), cv=cv)\n",
        "confusao2 = confusion_matrix(classe_mort, predictions2)\n",
        "confusao2"
      ],
      "execution_count": 97,
      "outputs": [
        {
          "output_type": "execute_result",
          "data": {
            "text/plain": [
              "array([[1903,  159,  100],\n",
              "       [ 537,  226,   66],\n",
              "       [1289,  335,  950]])"
            ]
          },
          "metadata": {
            "tags": []
          },
          "execution_count": 97
        }
      ]
    },
    {
      "cell_type": "markdown",
      "metadata": {
        "id": "9X7I8VEMieAr"
      },
      "source": [
        "# **Métricas de avaliação**"
      ]
    },
    {
      "cell_type": "markdown",
      "metadata": {
        "id": "tJ2DoAbBezaj"
      },
      "source": [
        "**Predição de Incidência**"
      ]
    },
    {
      "cell_type": "code",
      "metadata": {
        "colab": {
          "base_uri": "https://localhost:8080/"
        },
        "id": "_-mdlrzteoyL",
        "outputId": "4d413aac-d077-4c72-b3d7-2187ea64b191"
      },
      "source": [
        "metrics.accuracy_score(classe_inc, predictions)"
      ],
      "execution_count": 99,
      "outputs": [
        {
          "output_type": "execute_result",
          "data": {
            "text/plain": [
              "0.5908355795148248"
            ]
          },
          "metadata": {
            "tags": []
          },
          "execution_count": 99
        }
      ]
    },
    {
      "cell_type": "code",
      "metadata": {
        "colab": {
          "base_uri": "https://localhost:8080/"
        },
        "id": "sBIbBsV6fj38",
        "outputId": "b29aafba-505a-4974-fbdf-ece0c51a772e"
      },
      "source": [
        "metrics.precision_score(classe_inc, predictions, average=None)"
      ],
      "execution_count": 100,
      "outputs": [
        {
          "output_type": "execute_result",
          "data": {
            "text/plain": [
              "array([0.84419714, 0.09947644, 0.55745223])"
            ]
          },
          "metadata": {
            "tags": []
          },
          "execution_count": 100
        }
      ]
    },
    {
      "cell_type": "code",
      "metadata": {
        "colab": {
          "base_uri": "https://localhost:8080/"
        },
        "id": "lfm8p2zughEW",
        "outputId": "9a4481f3-e0c2-440b-c7af-0a56dbdc4e4c"
      },
      "source": [
        "metrics.recall_score(classe_inc, predictions, average=None)"
      ],
      "execution_count": 101,
      "outputs": [
        {
          "output_type": "execute_result",
          "data": {
            "text/plain": [
              "array([0.40318907, 0.08816705, 0.8752    ])"
            ]
          },
          "metadata": {
            "tags": []
          },
          "execution_count": 101
        }
      ]
    },
    {
      "cell_type": "code",
      "metadata": {
        "colab": {
          "base_uri": "https://localhost:8080/"
        },
        "id": "4KttVPCFgwpk",
        "outputId": "fcc886e9-c2ab-4b8a-8510-e9dfec47bdff"
      },
      "source": [
        "metrics.f1_score(classe_inc, predictions, average=None)"
      ],
      "execution_count": 102,
      "outputs": [
        {
          "output_type": "execute_result",
          "data": {
            "text/plain": [
              "array([0.54573484, 0.09348093, 0.68108949])"
            ]
          },
          "metadata": {
            "tags": []
          },
          "execution_count": 102
        }
      ]
    },
    {
      "cell_type": "markdown",
      "metadata": {
        "id": "1r9iVE3Ee2to"
      },
      "source": [
        "**Predição de Mortalidade**"
      ]
    },
    {
      "cell_type": "code",
      "metadata": {
        "colab": {
          "base_uri": "https://localhost:8080/"
        },
        "id": "tUNROdHPeylh",
        "outputId": "2f12fe96-d344-43c3-f153-1557faf8227f"
      },
      "source": [
        "metrics.accuracy_score(classe_mort, predictions2)"
      ],
      "execution_count": 103,
      "outputs": [
        {
          "output_type": "execute_result",
          "data": {
            "text/plain": [
              "0.5532794249775382"
            ]
          },
          "metadata": {
            "tags": []
          },
          "execution_count": 103
        }
      ]
    },
    {
      "cell_type": "code",
      "metadata": {
        "colab": {
          "base_uri": "https://localhost:8080/"
        },
        "id": "fwPLh0wHg5P9",
        "outputId": "962c4583-c6c1-4fba-b2c0-42424c2f32fd"
      },
      "source": [
        "metrics.precision_score(classe_mort, predictions2, average=None)"
      ],
      "execution_count": 104,
      "outputs": [
        {
          "output_type": "execute_result",
          "data": {
            "text/plain": [
              "array([0.51032448, 0.31388889, 0.85125448])"
            ]
          },
          "metadata": {
            "tags": []
          },
          "execution_count": 104
        }
      ]
    },
    {
      "cell_type": "code",
      "metadata": {
        "colab": {
          "base_uri": "https://localhost:8080/"
        },
        "id": "E_csHcGog5P9",
        "outputId": "c387c1da-c491-4a01-9830-cf553de002d3"
      },
      "source": [
        "metrics.recall_score(classe_mort, predictions2, average=None)"
      ],
      "execution_count": 105,
      "outputs": [
        {
          "output_type": "execute_result",
          "data": {
            "text/plain": [
              "array([0.88020352, 0.27261761, 0.36907537])"
            ]
          },
          "metadata": {
            "tags": []
          },
          "execution_count": 105
        }
      ]
    },
    {
      "cell_type": "code",
      "metadata": {
        "colab": {
          "base_uri": "https://localhost:8080/"
        },
        "id": "F5QLOMW0g5P9",
        "outputId": "250d741f-7286-47b4-d17f-45dc592f9e42"
      },
      "source": [
        "metrics.f1_score(classe_mort, predictions2, average=None)"
      ],
      "execution_count": 106,
      "outputs": [
        {
          "output_type": "execute_result",
          "data": {
            "text/plain": [
              "array([0.64607028, 0.29180116, 0.51490515])"
            ]
          },
          "metadata": {
            "tags": []
          },
          "execution_count": 106
        }
      ]
    }
  ]
}