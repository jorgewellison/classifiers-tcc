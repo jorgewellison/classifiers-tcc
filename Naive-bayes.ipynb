{
  "nbformat": 4,
  "nbformat_minor": 0,
  "metadata": {
    "colab": {
      "name": "Naive Bayes - Análise preditiva da incidência e mortalidade da COVID-19.ipynb",
      "provenance": [],
      "mount_file_id": "1srHf6vYH9BATl08kuAI2e7u2C-sK9yA6",
      "authorship_tag": "ABX9TyM1CQ8rifqSrnCxM/9QX4yF",
      "include_colab_link": true
    },
    "kernelspec": {
      "name": "python3",
      "display_name": "Python 3"
    }
  },
  "cells": [
    {
      "cell_type": "markdown",
      "metadata": {
        "id": "view-in-github",
        "colab_type": "text"
      },
      "source": [
        "<a href=\"https://colab.research.google.com/github/jorgewellison/classifiers-tcc/blob/main/Naive-bayes.ipynb\" target=\"_parent\"><img src=\"https://colab.research.google.com/assets/colab-badge.svg\" alt=\"Open In Colab\"/></a>"
      ]
    },
    {
      "cell_type": "markdown",
      "metadata": {
        "id": "EEUc8VhJVe2z"
      },
      "source": [
        "**Configurações iniciais**"
      ]
    },
    {
      "cell_type": "code",
      "metadata": {
        "id": "gGBTcftc7Dz7",
        "outputId": "dca4326e-24d3-4173-cfba-aca7258eb3cd",
        "colab": {
          "base_uri": "https://localhost:8080/",
          "height": 34
        }
      },
      "source": [
        "from google.colab import drive\n",
        "drive.mount('/content/drive')"
      ],
      "execution_count": null,
      "outputs": [
        {
          "output_type": "stream",
          "text": [
            "Mounted at /content/drive\n"
          ],
          "name": "stdout"
        }
      ]
    },
    {
      "cell_type": "markdown",
      "metadata": {
        "id": "Rfuyj56F_ibU"
      },
      "source": [
        "**Importação das bibliotecas**"
      ]
    },
    {
      "cell_type": "code",
      "metadata": {
        "id": "xUoD9d9udQ7e"
      },
      "source": [
        "import pandas as pd\n",
        "from numpy import mean\n",
        "from numpy import std\n",
        "from numpy import nper\n",
        "import matplotlib.pyplot as plt\n",
        "from sklearn.naive_bayes import GaussianNB\n",
        "from sklearn.preprocessing import LabelEncoder\n",
        "from sklearn.metrics import confusion_matrix, accuracy_score\n",
        "from yellowbrick.classifier import ConfusionMatrix\n",
        "from sklearn.model_selection import cross_val_score, cross_val_predict, KFold\n"
      ],
      "execution_count": 10,
      "outputs": []
    },
    {
      "cell_type": "markdown",
      "metadata": {
        "id": "wPj8tkmaV1fi"
      },
      "source": [
        "**Importando previsores e classe (tratados no pré-processamento)**\n",
        "\n",
        "previsores -> variáveis independentes - X\n",
        "\n",
        "classe -> variável dependente - y"
      ]
    },
    {
      "cell_type": "code",
      "metadata": {
        "id": "iJQWVjdVP-y0"
      },
      "source": [
        "previsores = pd.read_csv(\"/content/drive/My Drive/Colab Notebooks/covid-idhm/previsores.csv\") \n",
        "classe = pd.read_csv(\"/content/drive/My Drive/Colab Notebooks/covid-idhm/classe.csv\") "
      ],
      "execution_count": 11,
      "outputs": []
    },
    {
      "cell_type": "markdown",
      "metadata": {
        "id": "-vpuQSMzQO1D"
      },
      "source": [
        "**Criação do KFold com 10 iterações e Shuffle para embaralhar as linhas, desagrupando os municipios de seus estados**"
      ]
    },
    {
      "cell_type": "code",
      "metadata": {
        "id": "JD4LvtYUQVDi"
      },
      "source": [
        "cv = KFold(n_splits=10, random_state=0, shuffle=True)"
      ],
      "execution_count": 12,
      "outputs": []
    },
    {
      "cell_type": "markdown",
      "metadata": {
        "id": "nLhi6QVapZC1"
      },
      "source": [
        "**Criação e treinamento do modelo (geração de tabela de probabilidades)**"
      ]
    },
    {
      "cell_type": "code",
      "metadata": {
        "id": "p6vi13MiphD2",
        "outputId": "dae79491-3044-4869-8ac8-35ca6864a0bb",
        "colab": {
          "base_uri": "https://localhost:8080/"
        }
      },
      "source": [
        "naive_bayes = GaussianNB()\n",
        "naive_bayes.fit(previsores, classe.values.ravel())"
      ],
      "execution_count": 17,
      "outputs": [
        {
          "output_type": "execute_result",
          "data": {
            "text/plain": [
              "GaussianNB(priors=None, var_smoothing=1e-09)"
            ]
          },
          "metadata": {
            "tags": []
          },
          "execution_count": 17
        }
      ]
    },
    {
      "cell_type": "markdown",
      "metadata": {
        "id": "Oe7rCwumLDuY"
      },
      "source": [
        "**Testes com validação cruzada**"
      ]
    },
    {
      "cell_type": "code",
      "metadata": {
        "id": "QUUuDcb6VXIr"
      },
      "source": [
        "#a função cross_val_score recebe por parâmetro o modelo\n",
        "#todos os dados para treino, os dados de classes, a quandidade de fodls e o metodo de avaliação\n",
        "scores = cross_val_score(naive_bayes, previsores, classe.values.ravel(), cv=cv, scoring='accuracy')"
      ],
      "execution_count": 18,
      "outputs": []
    },
    {
      "cell_type": "markdown",
      "metadata": {
        "id": "vRx3N-EF1oOQ"
      },
      "source": [
        "**Predição e Matriz de confusão**"
      ]
    },
    {
      "cell_type": "code",
      "metadata": {
        "id": "9A2ZXrvuq4ls",
        "outputId": "d0ab731d-4ae8-4641-d421-70fb2a1853c2",
        "colab": {
          "base_uri": "https://localhost:8080/"
        }
      },
      "source": [
        "predictions = cross_val_predict(naive_bayes, previsores, classe.values.ravel(), cv=cv)\n",
        "confusao = confusion_matrix(classe, predictions)\n",
        "confusao"
      ],
      "execution_count": 19,
      "outputs": [
        {
          "output_type": "execute_result",
          "data": {
            "text/plain": [
              "array([[3049,   93,  442],\n",
              "       [1237,  116,  314],\n",
              "       [ 199,   18,   97]])"
            ]
          },
          "metadata": {
            "tags": []
          },
          "execution_count": 19
        }
      ]
    },
    {
      "cell_type": "code",
      "metadata": {
        "id": "P8xC0qNB3GtM",
        "outputId": "0976b5db-81e1-42a2-bb65-b50feb594edf",
        "colab": {
          "base_uri": "https://localhost:8080/",
          "height": 346
        }
      },
      "source": [
        "v = ConfusionMatrix(GaussianNB())\n",
        "v.fit(previsores, classe)\n",
        "v.score(previsores, predictions)\n",
        "v.poof()"
      ],
      "execution_count": 21,
      "outputs": [
        {
          "output_type": "stream",
          "text": [
            "/usr/local/lib/python3.6/dist-packages/sklearn/naive_bayes.py:206: DataConversionWarning: A column-vector y was passed when a 1d array was expected. Please change the shape of y to (n_samples, ), for example using ravel().\n",
            "  y = column_or_1d(y, warn=True)\n"
          ],
          "name": "stderr"
        },
        {
          "output_type": "display_data",
          "data": {
            "image/png": "[encoded data removed]",
            "text/plain": [
              "<Figure size 432x288 with 1 Axes>"
            ]
          },
          "metadata": {
            "tags": [],
            "needs_background": "light"
          }
        }
      ]
    },
    {
      "cell_type": "markdown",
      "metadata": {
        "id": "w7lmvOz7VcfB"
      },
      "source": [
        "**Imprimindo os resultados dos folds**"
      ]
    },
    {
      "cell_type": "code",
      "metadata": {
        "id": "JiPjb70LVpO5",
        "outputId": "7afdc08b-de3f-43ef-f6e9-d12b5dc89fbc",
        "colab": {
          "base_uri": "https://localhost:8080/"
        }
      },
      "source": [
        "scores"
      ],
      "execution_count": 22,
      "outputs": [
        {
          "output_type": "execute_result",
          "data": {
            "text/plain": [
              "array([0.60143627, 0.59425494, 0.5529623 , 0.5978456 , 0.56732496,\n",
              "       0.60791367, 0.49640288, 0.64388489, 0.59352518, 0.60611511])"
            ]
          },
          "metadata": {
            "tags": []
          },
          "execution_count": 22
        }
      ]
    },
    {
      "cell_type": "markdown",
      "metadata": {
        "id": "nQ8OaBftWewC"
      },
      "source": [
        "**Taxa de acerto**"
      ]
    },
    {
      "cell_type": "code",
      "metadata": {
        "id": "t9TB3nDeWgk8",
        "outputId": "bd00881e-747c-41e0-a55a-b03ee33a2b82",
        "colab": {
          "base_uri": "https://localhost:8080/"
        }
      },
      "source": [
        "scores.mean() #porcentagem de precisão\n"
      ],
      "execution_count": 23,
      "outputs": [
        {
          "output_type": "execute_result",
          "data": {
            "text/plain": [
              "0.5861665784069333"
            ]
          },
          "metadata": {
            "tags": []
          },
          "execution_count": 23
        }
      ]
    },
    {
      "cell_type": "markdown",
      "metadata": {
        "id": "6kuwHCx2P1Ah"
      },
      "source": [
        "**Métricas de avaliação**"
      ]
    },
    {
      "cell_type": "code",
      "metadata": {
        "id": "jS8OBxQmP4i-",
        "outputId": "9ffc6ecb-d7d2-415b-d045-a3f15ff7d5f0",
        "colab": {
          "base_uri": "https://localhost:8080/"
        }
      },
      "source": [
        "print('Accuracy: %.3f (%.3f)' % (mean(scores), std(scores)))"
      ],
      "execution_count": 25,
      "outputs": [
        {
          "output_type": "stream",
          "text": [
            "Accuracy: 0.586 (0.038)\n"
          ],
          "name": "stdout"
        }
      ]
    },
    {
      "cell_type": "markdown",
      "metadata": {
        "id": "PnR1-PIlWjIo"
      },
      "source": [
        "**Taxa de erro**"
      ]
    },
    {
      "cell_type": "code",
      "metadata": {
        "id": "d5fyoZGy2Pzl",
        "outputId": "8cba8d41-9f2c-42d0-d4cf-74b68863cffd",
        "colab": {
          "base_uri": "https://localhost:8080/"
        }
      },
      "source": [
        "taxa_erro = 1 - scores.mean()\n",
        "taxa_erro"
      ],
      "execution_count": 26,
      "outputs": [
        {
          "output_type": "execute_result",
          "data": {
            "text/plain": [
              "0.4138334215930667"
            ]
          },
          "metadata": {
            "tags": []
          },
          "execution_count": 26
        }
      ]
    }
  ]
}