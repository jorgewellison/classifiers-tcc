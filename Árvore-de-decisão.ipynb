{
  "nbformat": 4,
  "nbformat_minor": 0,
  "metadata": {
    "colab": {
      "name": "Árvore - Análise preditiva da incidência e mortalidade da COVID-19.ipynb",
      "provenance": [],
      "collapsed_sections": [],
      "include_colab_link": true
    },
    "kernelspec": {
      "name": "python3",
      "display_name": "Python 3"
    }
  },
  "cells": [
    {
      "cell_type": "markdown",
      "metadata": {
        "id": "view-in-github",
        "colab_type": "text"
      },
      "source": [
        "<a href=\"https://colab.research.google.com/github/jorgewellison/classifiers-tcc/blob/main/%C3%81rvore-de-decis%C3%A3o.ipynb\" target=\"_parent\"><img src=\"https://colab.research.google.com/assets/colab-badge.svg\" alt=\"Open In Colab\"/></a>"
      ]
    },
    {
      "cell_type": "markdown",
      "metadata": {
        "id": "EEUc8VhJVe2z"
      },
      "source": [
        "**Configurações iniciais**"
      ]
    },
    {
      "cell_type": "code",
      "metadata": {
        "id": "gGBTcftc7Dz7",
        "outputId": "79a7c65d-0a6a-4891-cbc5-28aa65550582",
        "colab": {
          "base_uri": "https://localhost:8080/",
          "height": 33
        }
      },
      "source": [
        "from google.colab import drive\n",
        "drive.mount('/content/drive', force_remount=True)"
      ],
      "execution_count": null,
      "outputs": [
        {
          "output_type": "stream",
          "text": [
            "Mounted at /content/drive\n"
          ],
          "name": "stdout"
        }
      ]
    },
    {
      "cell_type": "markdown",
      "metadata": {
        "id": "Rfuyj56F_ibU"
      },
      "source": [
        "**Importação das bibliotecas**"
      ]
    },
    {
      "cell_type": "code",
      "metadata": {
        "id": "xUoD9d9udQ7e"
      },
      "source": [
        "import pandas as pd\n",
        "from numpy import mean\n",
        "from numpy import std\n",
        "import seaborn as sns\n",
        "import matplotlib.pyplot as plt\n",
        "from sklearn.model_selection import train_test_split, KFold\n",
        "from sklearn.metrics import confusion_matrix, accuracy_score\n",
        "from sklearn.tree import DecisionTreeClassifier, export\n",
        "from sklearn.model_selection import KFold\n",
        "from yellowbrick.classifier import ConfusionMatrix\n",
        "import graphviz\n",
        "from sklearn.tree import export_graphviz\n",
        "from sklearn.model_selection import cross_val_score, cross_val_predict\n"
      ],
      "execution_count": null,
      "outputs": []
    },
    {
      "cell_type": "markdown",
      "metadata": {
        "id": "wPj8tkmaV1fi"
      },
      "source": [
        "**Importando previsores e classe (tratados no pré-processamento)**\n",
        "\n",
        "previsores -> variáveis independentes - X\n",
        "\n",
        "classe -> variável dependente - y"
      ]
    },
    {
      "cell_type": "code",
      "metadata": {
        "id": "iJQWVjdVP-y0"
      },
      "source": [
        "previsores = pd.read_csv(\"/content/drive/My Drive/Colab Notebooks/covid-idhm/previsores.csv\") \n",
        "classe = pd.read_csv(\"/content/drive/My Drive/Colab Notebooks/covid-idhm/classe.csv\") "
      ],
      "execution_count": null,
      "outputs": []
    },
    {
      "cell_type": "code",
      "metadata": {
        "id": "BJR6U0xmY7JU",
        "outputId": "0ac77f3e-5b5a-48cb-ddda-b19a28ebf141",
        "colab": {
          "base_uri": "https://localhost:8080/",
          "height": 212
        }
      },
      "source": [
        "previsores.isnull().sum()"
      ],
      "execution_count": null,
      "outputs": [
        {
          "output_type": "execute_result",
          "data": {
            "text/plain": [
              "expec_vida                   0\n",
              "taxa_fecund                  0\n",
              "MORT1                        0\n",
              "%sobreviver_60a              0\n",
              "taxa_envelh                  0\n",
              "                            ..\n",
              "IDHM                         0\n",
              "IDHM_E                       0\n",
              "IDHM_L                       0\n",
              "IDHM_R                       0\n",
              "estimated_population_2019    0\n",
              "Length: 68, dtype: int64"
            ]
          },
          "metadata": {
            "tags": []
          },
          "execution_count": 22
        }
      ]
    },
    {
      "cell_type": "markdown",
      "metadata": {
        "id": "slap5jbZC1UT"
      },
      "source": [
        "**Criação do KFold com 10 iterações e Shuffle para embaralhar as linhas, desagrupando os municipios de seus estados**\n",
        "\n",
        "---\n",
        "\n"
      ]
    },
    {
      "cell_type": "code",
      "metadata": {
        "id": "Bf6jADi2DTi1"
      },
      "source": [
        "cv = KFold(n_splits=10, random_state=0, shuffle=True)"
      ],
      "execution_count": null,
      "outputs": []
    },
    {
      "cell_type": "markdown",
      "metadata": {
        "id": "7A8NJ7eCDsch"
      },
      "source": [
        "**Criação e treinamento do modelo**"
      ]
    },
    {
      "cell_type": "code",
      "metadata": {
        "id": "Ulpo9rH3EKg2",
        "outputId": "5f99cf8a-d08f-47b1-9b88-39ca8d15b6d6",
        "colab": {
          "base_uri": "https://localhost:8080/",
          "height": 115
        }
      },
      "source": [
        "arvore = DecisionTreeClassifier()\n",
        "arvore.fit(previsores, classe)\n"
      ],
      "execution_count": null,
      "outputs": [
        {
          "output_type": "execute_result",
          "data": {
            "text/plain": [
              "DecisionTreeClassifier(ccp_alpha=0.0, class_weight=None, criterion='gini',\n",
              "                       max_depth=None, max_features=None, max_leaf_nodes=None,\n",
              "                       min_impurity_decrease=0.0, min_impurity_split=None,\n",
              "                       min_samples_leaf=1, min_samples_split=2,\n",
              "                       min_weight_fraction_leaf=0.0, presort='deprecated',\n",
              "                       random_state=None, splitter='best')"
            ]
          },
          "metadata": {
            "tags": []
          },
          "execution_count": 31
        }
      ]
    },
    {
      "cell_type": "markdown",
      "metadata": {
        "id": "Oe7rCwumLDuY"
      },
      "source": [
        "**Teste e predição com validação cruzada**"
      ]
    },
    {
      "cell_type": "code",
      "metadata": {
        "id": "FrFw8q6kPHuk"
      },
      "source": [
        "#a função cross_val_score recebe por parâmetro o modelo\n",
        "#todos os dados para treino, os dados de classes, a quandidade de fodls e o metodo de avaliação\n",
        "\n",
        "scores = cross_val_score(arvore, previsores, classe, cv=cv, scoring='accuracy')"
      ],
      "execution_count": null,
      "outputs": []
    },
    {
      "cell_type": "markdown",
      "metadata": {
        "id": "w7lmvOz7VcfB"
      },
      "source": [
        "**Imprimindo os resultados dos folds**"
      ]
    },
    {
      "cell_type": "code",
      "metadata": {
        "id": "2jMWT2n0P7my",
        "outputId": "2a1a071d-3d52-4e0c-e3ed-2235e202519c",
        "colab": {
          "base_uri": "https://localhost:8080/",
          "height": 50
        }
      },
      "source": [
        "scores #array com resultado de cada execução (previsão)"
      ],
      "execution_count": null,
      "outputs": [
        {
          "output_type": "execute_result",
          "data": {
            "text/plain": [
              "array([0.56732496, 0.60682226, 0.52962298, 0.57450628, 0.59605027,\n",
              "       0.57913669, 0.55215827, 0.57194245, 0.54496403, 0.60611511])"
            ]
          },
          "metadata": {
            "tags": []
          },
          "execution_count": 33
        }
      ]
    },
    {
      "cell_type": "markdown",
      "metadata": {
        "id": "QQuH1jyqn__3"
      },
      "source": [
        "**Predição e Matriz de confusão**"
      ]
    },
    {
      "cell_type": "code",
      "metadata": {
        "id": "7Pp5lz9yh1mf",
        "outputId": "05a5c698-8ba8-474a-f7fd-3da21fe9ed14",
        "colab": {
          "base_uri": "https://localhost:8080/",
          "height": 66
        }
      },
      "source": [
        "predictions = cross_val_predict(arvore, previsores, classe, cv=cv)\n",
        "confusao = confusion_matrix(classe, predictions)\n",
        "confusao"
      ],
      "execution_count": null,
      "outputs": [
        {
          "output_type": "execute_result",
          "data": {
            "text/plain": [
              "array([[2466,  943,  175],\n",
              "       [ 896,  646,  125],\n",
              "       [ 128,  138,   48]])"
            ]
          },
          "metadata": {
            "tags": []
          },
          "execution_count": 39
        }
      ]
    },
    {
      "cell_type": "code",
      "metadata": {
        "id": "KpS6xnkaoGn2",
        "outputId": "ffd3e2d6-ebad-4cc5-c8be-f64af4e5003a",
        "colab": {
          "base_uri": "https://localhost:8080/",
          "height": 372
        }
      },
      "source": [
        "v = ConfusionMatrix(DecisionTreeClassifier())\n",
        "v.fit(previsores, classe)\n",
        "v.score(previsores, predictions)\n",
        "v.poof()"
      ],
      "execution_count": null,
      "outputs": [
        {
          "output_type": "display_data",
          "data": {
            "image/png": "[encoded data removed]",
            "text/plain": [
              "<Figure size 576x396 with 1 Axes>"
            ]
          },
          "metadata": {
            "tags": []
          }
        }
      ]
    },
    {
      "cell_type": "markdown",
      "metadata": {
        "id": "f3-pShdgRVH2"
      },
      "source": [
        "**Taxa de acerto**"
      ]
    },
    {
      "cell_type": "code",
      "metadata": {
        "id": "cYwDl717QRZx",
        "outputId": "defcf012-3b0b-40f1-d610-a34dd4ec74c5",
        "colab": {
          "base_uri": "https://localhost:8080/",
          "height": 33
        }
      },
      "source": [
        "scores.mean() #méd"
      ],
      "execution_count": null,
      "outputs": [
        {
          "output_type": "execute_result",
          "data": {
            "text/plain": [
              "0.5721413533446134"
            ]
          },
          "metadata": {
            "tags": []
          },
          "execution_count": 14
        }
      ]
    },
    {
      "cell_type": "markdown",
      "metadata": {
        "id": "6kuwHCx2P1Ah"
      },
      "source": [
        "**Métricas de avaliação**"
      ]
    },
    {
      "cell_type": "code",
      "metadata": {
        "id": "jS8OBxQmP4i-",
        "outputId": "32aef83e-c91e-4105-a988-96becb992c16",
        "colab": {
          "base_uri": "https://localhost:8080/",
          "height": 33
        }
      },
      "source": [
        "print('Accuracy: %.3f (%.3f)' % (mean(scores), std(scores)))"
      ],
      "execution_count": null,
      "outputs": [
        {
          "output_type": "stream",
          "text": [
            "Accuracy: 0.572 (0.023)\n"
          ],
          "name": "stdout"
        }
      ]
    },
    {
      "cell_type": "markdown",
      "metadata": {
        "id": "T3dBPKR4RLwV"
      },
      "source": [
        "**Taxa de erro**"
      ]
    },
    {
      "cell_type": "code",
      "metadata": {
        "id": "tW5gplNYROmW",
        "outputId": "e07c5751-6314-471f-9ffd-e058f58e90e7",
        "colab": {
          "base_uri": "https://localhost:8080/",
          "height": 34
        }
      },
      "source": [
        "taxa_erro = 1 - scores.mean()\n",
        "taxa_erro"
      ],
      "execution_count": null,
      "outputs": [
        {
          "output_type": "execute_result",
          "data": {
            "text/plain": [
              "0.4935749066814771"
            ]
          },
          "metadata": {
            "tags": []
          },
          "execution_count": 28
        }
      ]
    },
    {
      "cell_type": "markdown",
      "metadata": {
        "id": "9NSu3qfqFgvm"
      },
      "source": [
        "**Exportação da árvore de decisão do algoritmo de treinamento, com o formato .dot para posterior visualização**"
      ]
    },
    {
      "cell_type": "code",
      "metadata": {
        "id": "mq0X0OPDEKe3"
      },
      "source": [
        "export_graphviz(arvore, \n",
        "                out_file = 'tree.dot',\n",
        "                feature_names = ['expec_vida', 'taxa_fecund','MORT1','%sobreviver_60a','taxa_envelh','expec_anos_estudo_18','T_ANALF11A14','T_ANALF25M','T_ATRASO_0_BASICO','T_ATRASO_2_BASICO','T_FLPRE','T_FLSUPER','T_FREQSUPER1517','T_MED25M','T_SUPER25M','GINI','PIND','PINDCRI','PMPOB','PMPOBCRI','RDPC','CPR','EMP','P_AGRO','P_COM','P_CONSTR','P_EXTR','P_FORMAL','P_FUND','P_MED','P_SERV','P_SIUP','P_SUPER','T_DES2529','TRABCC','TRABPUB','TRABSC','T_AGUA','T_BANAGUA','T_DENS','T_LIXO','T_LUZ','AGUA_ESGOTO','PAREDE','T_CRIFUNDIN_TODOS','T_FORA4A5','T_FORA6A14','T_FUNDIN_TODOS','T_FUNDIN_TODOS_MMEIO','T_FUNDIN18MINF','T_M10A14CF','T_M15A17CF','T_MULCHEFEFIF014','T_NESTUDA_NTRAB_MMEIO','T_OCUPDESLOC_1','T_RMAXIDOSO','T_SLUZ','HOMEMTOT','MULHERTOT','pesoRUR','pesotot','pesourb','POP','IDHM','IDHM_E','IDHM_L','IDHM_R','estimated_population_2019'],\n",
        "                class_names = ['0', '1', '2'],\n",
        "                filled = True,\n",
        "                leaves_parallel=True)"
      ],
      "execution_count": null,
      "outputs": []
    }
  ]
}