{
  "nbformat": 4,
  "nbformat_minor": 0,
  "metadata": {
    "colab": {
      "name": "Árvore - Análise preditiva da incidência e mortalidade da COVID-19.ipynb",
      "provenance": [],
      "collapsed_sections": [],
      "include_colab_link": true
    },
    "kernelspec": {
      "name": "python3",
      "display_name": "Python 3"
    }
  },
  "cells": [
    {
      "cell_type": "markdown",
      "metadata": {
        "id": "view-in-github",
        "colab_type": "text"
      },
      "source": [
        "<a href=\"https://colab.research.google.com/github/jorgewellison/classifiers-tcc/blob/main/%C3%81rvore-de-decis%C3%A3o.ipynb\" target=\"_parent\"><img src=\"https://colab.research.google.com/assets/colab-badge.svg\" alt=\"Open In Colab\"/></a>"
      ]
    },
    {
      "cell_type": "markdown",
      "metadata": {
        "id": "EEUc8VhJVe2z"
      },
      "source": [
        "**Configurações iniciais**"
      ]
    },
    {
      "cell_type": "code",
      "metadata": {
        "id": "gGBTcftc7Dz7",
        "outputId": "094f9263-8295-490d-fb90-c1c595d1ab9f",
        "colab": {
          "base_uri": "https://localhost:8080/"
        }
      },
      "source": [
        "from google.colab import drive\n",
        "drive.mount('/content/drive', force_remount=True)"
      ],
      "execution_count": 4,
      "outputs": [
        {
          "output_type": "stream",
          "text": [
            "Mounted at /content/drive\n"
          ],
          "name": "stdout"
        }
      ]
    },
    {
      "cell_type": "markdown",
      "metadata": {
        "id": "Rfuyj56F_ibU"
      },
      "source": [
        "**Importação das bibliotecas**"
      ]
    },
    {
      "cell_type": "code",
      "metadata": {
        "id": "xUoD9d9udQ7e",
        "outputId": "2e50f489-ad80-4c1a-e8c8-cc55af4b7cba",
        "colab": {
          "base_uri": "https://localhost:8080/"
        }
      },
      "source": [
        "import pandas as pd\n",
        "from numpy import mean\n",
        "from numpy import std\n",
        "import seaborn as sns\n",
        "import matplotlib.pyplot as plt\n",
        "from sklearn.model_selection import train_test_split, KFold\n",
        "from sklearn.metrics import confusion_matrix, accuracy_score\n",
        "from sklearn.tree import DecisionTreeClassifier, export\n",
        "from sklearn.model_selection import KFold\n",
        "from yellowbrick.classifier import ConfusionMatrix\n",
        "import graphviz\n",
        "from sklearn.tree import export_graphviz\n",
        "from sklearn.model_selection import cross_val_score, cross_val_predict\n"
      ],
      "execution_count": 2,
      "outputs": [
        {
          "output_type": "stream",
          "text": [
            "/usr/local/lib/python3.6/dist-packages/sklearn/utils/deprecation.py:144: FutureWarning: The sklearn.tree.export module is  deprecated in version 0.22 and will be removed in version 0.24. The corresponding classes / functions should instead be imported from sklearn.tree. Anything that cannot be imported from sklearn.tree is now part of the private API.\n",
            "  warnings.warn(message, FutureWarning)\n",
            "/usr/local/lib/python3.6/dist-packages/sklearn/utils/deprecation.py:144: FutureWarning: The sklearn.metrics.classification module is  deprecated in version 0.22 and will be removed in version 0.24. The corresponding classes / functions should instead be imported from sklearn.metrics. Anything that cannot be imported from sklearn.metrics is now part of the private API.\n",
            "  warnings.warn(message, FutureWarning)\n"
          ],
          "name": "stderr"
        }
      ]
    },
    {
      "cell_type": "markdown",
      "metadata": {
        "id": "wPj8tkmaV1fi"
      },
      "source": [
        "**Importando previsores e classe (tratados no pré-processamento)**\n",
        "\n",
        "previsores -> variáveis independentes - X\n",
        "\n",
        "classe -> variável dependente - y"
      ]
    },
    {
      "cell_type": "code",
      "metadata": {
        "id": "iJQWVjdVP-y0"
      },
      "source": [
        "previsores = pd.read_csv(\"/content/drive/My Drive/Colab Notebooks/covid-idhm/previsores.csv\") \n",
        "classe_inc = pd.read_csv(\"/content/drive/My Drive/Colab Notebooks/covid-idhm/classe_inc.csv\") \n",
        "classe_mort = pd.read_csv(\"/content/drive/My Drive/Colab Notebooks/covid-idhm/classe_mort.csv\") \n"
      ],
      "execution_count": 5,
      "outputs": []
    },
    {
      "cell_type": "code",
      "metadata": {
        "id": "BJR6U0xmY7JU",
        "outputId": "a47e1068-4351-4c79-8580-36b55e601bdf",
        "colab": {
          "base_uri": "https://localhost:8080/"
        }
      },
      "source": [
        "previsores.isnull().sum()"
      ],
      "execution_count": 6,
      "outputs": [
        {
          "output_type": "execute_result",
          "data": {
            "text/plain": [
              "expec_vida                   0\n",
              "taxa_fecund                  0\n",
              "MORT1                        0\n",
              "%sobreviver_60a              0\n",
              "taxa_envelh                  0\n",
              "                            ..\n",
              "IDHM                         0\n",
              "IDHM_E                       0\n",
              "IDHM_L                       0\n",
              "IDHM_R                       0\n",
              "estimated_population_2019    0\n",
              "Length: 68, dtype: int64"
            ]
          },
          "metadata": {
            "tags": []
          },
          "execution_count": 6
        }
      ]
    },
    {
      "cell_type": "markdown",
      "metadata": {
        "id": "slap5jbZC1UT"
      },
      "source": [
        "**Criação do KFold com 10 iterações e Shuffle para embaralhar as linhas, desagrupando os municipios de seus estados**\n",
        "\n",
        "---\n",
        "\n"
      ]
    },
    {
      "cell_type": "code",
      "metadata": {
        "id": "Bf6jADi2DTi1"
      },
      "source": [
        "cv = KFold(n_splits=10, random_state=0, shuffle=True)"
      ],
      "execution_count": 7,
      "outputs": []
    },
    {
      "cell_type": "markdown",
      "metadata": {
        "id": "7A8NJ7eCDsch"
      },
      "source": [
        "**Criação e treinamento do modelo**"
      ]
    },
    {
      "cell_type": "code",
      "metadata": {
        "id": "Ulpo9rH3EKg2",
        "outputId": "3721e8f9-bf7b-4835-a571-f6d13c068752",
        "colab": {
          "base_uri": "https://localhost:8080/"
        }
      },
      "source": [
        "arvore_inc = DecisionTreeClassifier()\n",
        "arvore_inc.fit(previsores, classe_inc)\n"
      ],
      "execution_count": 8,
      "outputs": [
        {
          "output_type": "execute_result",
          "data": {
            "text/plain": [
              "DecisionTreeClassifier(ccp_alpha=0.0, class_weight=None, criterion='gini',\n",
              "                       max_depth=None, max_features=None, max_leaf_nodes=None,\n",
              "                       min_impurity_decrease=0.0, min_impurity_split=None,\n",
              "                       min_samples_leaf=1, min_samples_split=2,\n",
              "                       min_weight_fraction_leaf=0.0, presort='deprecated',\n",
              "                       random_state=None, splitter='best')"
            ]
          },
          "metadata": {
            "tags": []
          },
          "execution_count": 8
        }
      ]
    },
    {
      "cell_type": "code",
      "metadata": {
        "id": "4oYqpFDV_h_n",
        "outputId": "9717f020-40b6-402a-f632-a8d8ee39eabe",
        "colab": {
          "base_uri": "https://localhost:8080/"
        }
      },
      "source": [
        "arvore_mort = DecisionTreeClassifier()\n",
        "arvore_mort.fit(previsores, classe_mort)\n"
      ],
      "execution_count": 9,
      "outputs": [
        {
          "output_type": "execute_result",
          "data": {
            "text/plain": [
              "DecisionTreeClassifier(ccp_alpha=0.0, class_weight=None, criterion='gini',\n",
              "                       max_depth=None, max_features=None, max_leaf_nodes=None,\n",
              "                       min_impurity_decrease=0.0, min_impurity_split=None,\n",
              "                       min_samples_leaf=1, min_samples_split=2,\n",
              "                       min_weight_fraction_leaf=0.0, presort='deprecated',\n",
              "                       random_state=None, splitter='best')"
            ]
          },
          "metadata": {
            "tags": []
          },
          "execution_count": 9
        }
      ]
    },
    {
      "cell_type": "markdown",
      "metadata": {
        "id": "Oe7rCwumLDuY"
      },
      "source": [
        "**Teste com validação cruzada**"
      ]
    },
    {
      "cell_type": "code",
      "metadata": {
        "id": "FrFw8q6kPHuk"
      },
      "source": [
        "#a função cross_val_score recebe por parâmetro o modelo\n",
        "#todos os dados para treino, os dados de classes, a quandidade de fodls e o metodo de avaliação\n",
        "\n",
        "scores = cross_val_score(arvore_inc, previsores, classe_inc, cv=cv, scoring='accuracy')"
      ],
      "execution_count": 11,
      "outputs": []
    },
    {
      "cell_type": "code",
      "metadata": {
        "id": "z2C0eVlj_w7A"
      },
      "source": [
        "#a função cross_val_score recebe por parâmetro o modelo\n",
        "#todos os dados para treino, os dados de classes, a quandidade de fodls e o metodo de avaliação\n",
        "\n",
        "scores2 = cross_val_score(arvore_mort, previsores, classe_mort, cv=cv, scoring='accuracy')"
      ],
      "execution_count": 12,
      "outputs": []
    },
    {
      "cell_type": "markdown",
      "metadata": {
        "id": "w7lmvOz7VcfB"
      },
      "source": [
        "**Imprimindo os resultados dos folds**"
      ]
    },
    {
      "cell_type": "code",
      "metadata": {
        "id": "2jMWT2n0P7my",
        "outputId": "6958c694-7510-4e32-a78f-c834e4178887",
        "colab": {
          "base_uri": "https://localhost:8080/"
        }
      },
      "source": [
        "scores #array com resultado de cada execução (previsão)"
      ],
      "execution_count": 13,
      "outputs": [
        {
          "output_type": "execute_result",
          "data": {
            "text/plain": [
              "array([0.55992844, 0.55277281, 0.5706619 , 0.53309481, 0.60822898,\n",
              "       0.57602862, 0.5921288 , 0.56887299, 0.58676208, 0.54301075])"
            ]
          },
          "metadata": {
            "tags": []
          },
          "execution_count": 13
        }
      ]
    },
    {
      "cell_type": "code",
      "metadata": {
        "id": "ilKy9Ltl_5Ch",
        "outputId": "9163fc04-64ef-4d54-942e-3ed1e9887bd2",
        "colab": {
          "base_uri": "https://localhost:8080/"
        }
      },
      "source": [
        "scores2 #array com resultado de cada execução (previsão)"
      ],
      "execution_count": 14,
      "outputs": [
        {
          "output_type": "execute_result",
          "data": {
            "text/plain": [
              "array([0.50447227, 0.45796064, 0.47227191, 0.47406082, 0.49373882,\n",
              "       0.47584973, 0.4686941 , 0.48479428, 0.47763864, 0.48924731])"
            ]
          },
          "metadata": {
            "tags": []
          },
          "execution_count": 14
        }
      ]
    },
    {
      "cell_type": "markdown",
      "metadata": {
        "id": "QQuH1jyqn__3"
      },
      "source": [
        "# **Predição e Matriz de confusão**"
      ]
    },
    {
      "cell_type": "markdown",
      "metadata": {
        "id": "CNReNSvGBK66"
      },
      "source": [
        "### Predição e Matriz da incidência"
      ]
    },
    {
      "cell_type": "code",
      "metadata": {
        "id": "7Pp5lz9yh1mf",
        "outputId": "072e2275-4747-434e-a490-6ec3e374877f",
        "colab": {
          "base_uri": "https://localhost:8080/"
        }
      },
      "source": [
        "predictions = cross_val_predict(arvore_inc, previsores, classe_inc, cv=cv)\n",
        "confusao = confusion_matrix(classe_inc, predictions)\n",
        "confusao"
      ],
      "execution_count": 15,
      "outputs": [
        {
          "output_type": "execute_result",
          "data": {
            "text/plain": [
              "array([[ 605,  955,  135],\n",
              "       [ 894, 2515,  170],\n",
              "       [ 123,  134,   58]])"
            ]
          },
          "metadata": {
            "tags": []
          },
          "execution_count": 15
        }
      ]
    },
    {
      "cell_type": "code",
      "metadata": {
        "id": "KpS6xnkaoGn2",
        "outputId": "a4a52955-e997-4b8a-933c-c24169884028",
        "colab": {
          "base_uri": "https://localhost:8080/",
          "height": 373
        }
      },
      "source": [
        "v = ConfusionMatrix(DecisionTreeClassifier())\n",
        "v.fit(previsores, classe_inc)\n",
        "v.score(previsores, predictions)\n",
        "v.poof()"
      ],
      "execution_count": 17,
      "outputs": [
        {
          "output_type": "display_data",
          "data": {
            "image/png": "[encoded data removed]",
            "text/plain": [
              "<Figure size 576x396 with 1 Axes>"
            ]
          },
          "metadata": {
            "tags": []
          }
        }
      ]
    },
    {
      "cell_type": "markdown",
      "metadata": {
        "id": "WRPYHSaiBPZQ"
      },
      "source": [
        "### Predição e Matriz da mortalidade"
      ]
    },
    {
      "cell_type": "code",
      "metadata": {
        "id": "NhvCjKyFATS1",
        "outputId": "73b9fad8-5585-45e9-95d8-1db498e2e7f5",
        "colab": {
          "base_uri": "https://localhost:8080/"
        }
      },
      "source": [
        "predictions2 = cross_val_predict(arvore_mort, previsores, classe_mort, cv=cv)\n",
        "confusao2 = confusion_matrix(classe_mort, predictions)\n",
        "confusao2"
      ],
      "execution_count": 19,
      "outputs": [
        {
          "output_type": "execute_result",
          "data": {
            "text/plain": [
              "array([[ 691, 2011,  154],\n",
              "       [ 270,  381,   68],\n",
              "       [ 661, 1212,  141]])"
            ]
          },
          "metadata": {
            "tags": []
          },
          "execution_count": 19
        }
      ]
    },
    {
      "cell_type": "code",
      "metadata": {
        "id": "piPB7HNPAeDw",
        "outputId": "ab06053f-5df9-46c8-b9b1-688769d0a951",
        "colab": {
          "base_uri": "https://localhost:8080/",
          "height": 373
        }
      },
      "source": [
        "v2 = ConfusionMatrix(DecisionTreeClassifier())\n",
        "v2.fit(previsores, classe_mort)\n",
        "v2.score(previsores, predictions)\n",
        "v2.poof()"
      ],
      "execution_count": 20,
      "outputs": [
        {
          "output_type": "display_data",
          "data": {
            "image/png": "[encoded data removed]",
            "text/plain": [
              "<Figure size 576x396 with 1 Axes>"
            ]
          },
          "metadata": {
            "tags": []
          }
        }
      ]
    },
    {
      "cell_type": "markdown",
      "metadata": {
        "id": "f3-pShdgRVH2"
      },
      "source": [
        "**Taxa de acerto**"
      ]
    },
    {
      "cell_type": "code",
      "metadata": {
        "id": "cYwDl717QRZx",
        "outputId": "397846e8-6951-4c0b-abe5-457461695eb0",
        "colab": {
          "base_uri": "https://localhost:8080/"
        }
      },
      "source": [
        "scores.mean() #méd"
      ],
      "execution_count": 18,
      "outputs": [
        {
          "output_type": "execute_result",
          "data": {
            "text/plain": [
              "0.5691490180237367"
            ]
          },
          "metadata": {
            "tags": []
          },
          "execution_count": 18
        }
      ]
    },
    {
      "cell_type": "code",
      "metadata": {
        "id": "58nGQwNkAkjB",
        "outputId": "671c5f6d-fb6d-48fc-f2be-2dd90af381ee",
        "colab": {
          "base_uri": "https://localhost:8080/"
        }
      },
      "source": [
        "scores2.mean()"
      ],
      "execution_count": 21,
      "outputs": [
        {
          "output_type": "execute_result",
          "data": {
            "text/plain": [
              "0.47987285282859177"
            ]
          },
          "metadata": {
            "tags": []
          },
          "execution_count": 21
        }
      ]
    },
    {
      "cell_type": "markdown",
      "metadata": {
        "id": "6kuwHCx2P1Ah"
      },
      "source": [
        "### **Métricas de avaliação**"
      ]
    },
    {
      "cell_type": "code",
      "metadata": {
        "id": "jS8OBxQmP4i-",
        "outputId": "32aef83e-c91e-4105-a988-96becb992c16",
        "colab": {
          "base_uri": "https://localhost:8080/",
          "height": 33
        }
      },
      "source": [
        "#Acurácia da predição de incidência\n",
        "print('Accuracy: %.3f (%.3f)' % (mean(scores), std(scores)))"
      ],
      "execution_count": null,
      "outputs": [
        {
          "output_type": "stream",
          "text": [
            "Accuracy: 0.572 (0.023)\n"
          ],
          "name": "stdout"
        }
      ]
    },
    {
      "cell_type": "code",
      "metadata": {
        "id": "_no-fdkKAx9n",
        "outputId": "daa3bced-7e7c-4853-cef3-d00ec2fbdecf",
        "colab": {
          "base_uri": "https://localhost:8080/"
        }
      },
      "source": [
        "#Acurácia da predição de mortalidade\n",
        "print('Accuracy: %.3f (%.3f)' % (mean(scores2), std(scores2)))"
      ],
      "execution_count": 22,
      "outputs": [
        {
          "output_type": "stream",
          "text": [
            "Accuracy: 0.480 (0.013)\n"
          ],
          "name": "stdout"
        }
      ]
    },
    {
      "cell_type": "markdown",
      "metadata": {
        "id": "T3dBPKR4RLwV"
      },
      "source": [
        "**Taxa de erro**"
      ]
    },
    {
      "cell_type": "code",
      "metadata": {
        "id": "tW5gplNYROmW",
        "outputId": "e07c5751-6314-471f-9ffd-e058f58e90e7",
        "colab": {
          "base_uri": "https://localhost:8080/",
          "height": 34
        }
      },
      "source": [
        "#Taxa de erro da predição de incidência\n",
        "taxa_erro = 1 - scores.mean()\n",
        "taxa_erro"
      ],
      "execution_count": null,
      "outputs": [
        {
          "output_type": "execute_result",
          "data": {
            "text/plain": [
              "0.4935749066814771"
            ]
          },
          "metadata": {
            "tags": []
          },
          "execution_count": 28
        }
      ]
    },
    {
      "cell_type": "code",
      "metadata": {
        "id": "6kMqk0tFA8R5",
        "outputId": "7cf41d29-eac4-498a-b66f-6e2e08fb0545",
        "colab": {
          "base_uri": "https://localhost:8080/"
        }
      },
      "source": [
        "#Taxa de erro da predição de mortalidade\n",
        "taxa_erro = 1 - scores2.mean()\n",
        "taxa_erro"
      ],
      "execution_count": 23,
      "outputs": [
        {
          "output_type": "execute_result",
          "data": {
            "text/plain": [
              "0.5201271471714082"
            ]
          },
          "metadata": {
            "tags": []
          },
          "execution_count": 23
        }
      ]
    },
    {
      "cell_type": "markdown",
      "metadata": {
        "id": "9NSu3qfqFgvm"
      },
      "source": [
        "**Exportação da árvore de decisão do algoritmo de treinamento, com o formato .dot para posterior visualização**"
      ]
    },
    {
      "cell_type": "code",
      "metadata": {
        "id": "mq0X0OPDEKe3"
      },
      "source": [
        "export_graphviz(arvore, \n",
        "                out_file = 'tree.dot',\n",
        "                feature_names = ['expec_vida', 'taxa_fecund','MORT1','%sobreviver_60a','taxa_envelh','expec_anos_estudo_18','T_ANALF11A14','T_ANALF25M','T_ATRASO_0_BASICO','T_ATRASO_2_BASICO','T_FLPRE','T_FLSUPER','T_FREQSUPER1517','T_MED25M','T_SUPER25M','GINI','PIND','PINDCRI','PMPOB','PMPOBCRI','RDPC','CPR','EMP','P_AGRO','P_COM','P_CONSTR','P_EXTR','P_FORMAL','P_FUND','P_MED','P_SERV','P_SIUP','P_SUPER','T_DES2529','TRABCC','TRABPUB','TRABSC','T_AGUA','T_BANAGUA','T_DENS','T_LIXO','T_LUZ','AGUA_ESGOTO','PAREDE','T_CRIFUNDIN_TODOS','T_FORA4A5','T_FORA6A14','T_FUNDIN_TODOS','T_FUNDIN_TODOS_MMEIO','T_FUNDIN18MINF','T_M10A14CF','T_M15A17CF','T_MULCHEFEFIF014','T_NESTUDA_NTRAB_MMEIO','T_OCUPDESLOC_1','T_RMAXIDOSO','T_SLUZ','HOMEMTOT','MULHERTOT','pesoRUR','pesotot','pesourb','POP','IDHM','IDHM_E','IDHM_L','IDHM_R','estimated_population_2019'],\n",
        "                class_names = ['0', '1', '2'],\n",
        "                filled = True,\n",
        "                leaves_parallel=True)"
      ],
      "execution_count": null,
      "outputs": []
    }
  ]
}