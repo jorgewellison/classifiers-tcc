{
  "nbformat": 4,
  "nbformat_minor": 0,
  "metadata": {
    "colab": {
      "name": "Árvore - Análise preditiva da incidência e mortalidade da COVID-19.ipynb",
      "provenance": [],
      "collapsed_sections": [],
      "include_colab_link": true
    },
    "kernelspec": {
      "name": "python3",
      "display_name": "Python 3"
    }
  },
  "cells": [
    {
      "cell_type": "markdown",
      "metadata": {
        "id": "view-in-github",
        "colab_type": "text"
      },
      "source": [
        "<a href=\"https://colab.research.google.com/github/jorgewellison/classifiers-tcc/blob/main/Decision-tree.ipynb\" target=\"_parent\"><img src=\"https://colab.research.google.com/assets/colab-badge.svg\" alt=\"Open In Colab\"/></a>"
      ]
    },
    {
      "cell_type": "markdown",
      "metadata": {
        "id": "EEUc8VhJVe2z"
      },
      "source": [
        "**Configurações iniciais**"
      ]
    },
    {
      "cell_type": "code",
      "metadata": {
        "id": "gGBTcftc7Dz7",
        "colab": {
          "base_uri": "https://localhost:8080/"
        },
        "outputId": "4b44c8d7-7cc5-4394-d61e-d2413be98bce"
      },
      "source": [
        "from google.colab import drive\n",
        "drive.mount('/content/drive', force_remount=True)"
      ],
      "execution_count": 1,
      "outputs": [
        {
          "output_type": "stream",
          "text": [
            "Mounted at /content/drive\n"
          ],
          "name": "stdout"
        }
      ]
    },
    {
      "cell_type": "markdown",
      "metadata": {
        "id": "Rfuyj56F_ibU"
      },
      "source": [
        "**Importação das bibliotecas**"
      ]
    },
    {
      "cell_type": "code",
      "metadata": {
        "id": "xUoD9d9udQ7e"
      },
      "source": [
        "import pandas as pd\n",
        "import numpy as np\n",
        "from numpy import mean\n",
        "from numpy import std\n",
        "import seaborn as sns\n",
        "import matplotlib.pyplot as plt\n",
        "from sklearn.model_selection import train_test_split, KFold\n",
        "from sklearn.ensemble import RandomForestClassifier\n",
        "from sklearn.metrics import make_scorer, confusion_matrix, accuracy_score, precision_score, recall_score, f1_score\n",
        "from sklearn.tree import DecisionTreeClassifier, export\n",
        "from sklearn.model_selection import KFold\n",
        "from yellowbrick.classifier import ConfusionMatrix\n",
        "import graphviz\n",
        "from sklearn.tree import export_graphviz\n",
        "from sklearn.model_selection import cross_val_score, cross_val_predict, cross_validate\n",
        "from sklearn import preprocessing, tree\n"
      ],
      "execution_count": 60,
      "outputs": []
    },
    {
      "cell_type": "markdown",
      "metadata": {
        "id": "wPj8tkmaV1fi"
      },
      "source": [
        "**Importando previsores e classe (tratados no pré-processamento)**\n",
        "\n",
        "previsores -> variáveis independentes - X\n",
        "\n",
        "classe -> variável dependente - y"
      ]
    },
    {
      "cell_type": "code",
      "metadata": {
        "id": "iJQWVjdVP-y0"
      },
      "source": [
        "previsores = pd.read_csv(\"/content/drive/My Drive/Colab Notebooks/covid-idhm/previsores_.csv\") \n",
        "classe_inc = pd.read_csv(\"/content/drive/My Drive/Colab Notebooks/covid-idhm/classe_inc.csv\") \n",
        "classe_mort = pd.read_csv(\"/content/drive/My Drive/Colab Notebooks/covid-idhm/classe_mort.csv\") \n"
      ],
      "execution_count": 3,
      "outputs": []
    },
    {
      "cell_type": "markdown",
      "metadata": {
        "id": "7A8NJ7eCDsch"
      },
      "source": [
        "**Criação e treinamento do modelo**"
      ]
    },
    {
      "cell_type": "code",
      "metadata": {
        "id": "Ulpo9rH3EKg2",
        "colab": {
          "base_uri": "https://localhost:8080/"
        },
        "outputId": "61c583c9-2f06-4e27-901e-a1830b0a6d8d"
      },
      "source": [
        "arvore_inc = DecisionTreeClassifier()\n",
        "arvore_inc.fit(previsores, classe_inc)\n"
      ],
      "execution_count": 6,
      "outputs": [
        {
          "output_type": "execute_result",
          "data": {
            "text/plain": [
              "DecisionTreeClassifier(ccp_alpha=0.0, class_weight=None, criterion='gini',\n",
              "                       max_depth=None, max_features=None, max_leaf_nodes=None,\n",
              "                       min_impurity_decrease=0.0, min_impurity_split=None,\n",
              "                       min_samples_leaf=1, min_samples_split=2,\n",
              "                       min_weight_fraction_leaf=0.0, presort='deprecated',\n",
              "                       random_state=None, splitter='best')"
            ]
          },
          "metadata": {
            "tags": []
          },
          "execution_count": 6
        }
      ]
    },
    {
      "cell_type": "code",
      "metadata": {
        "id": "4oYqpFDV_h_n",
        "colab": {
          "base_uri": "https://localhost:8080/"
        },
        "outputId": "93046199-800f-45a9-ebfd-2e7fea2d1462"
      },
      "source": [
        "arvore_mort = DecisionTreeClassifier()\n",
        "arvore_mort.fit(previsores, classe_mort)\n"
      ],
      "execution_count": 7,
      "outputs": [
        {
          "output_type": "execute_result",
          "data": {
            "text/plain": [
              "DecisionTreeClassifier(ccp_alpha=0.0, class_weight=None, criterion='gini',\n",
              "                       max_depth=None, max_features=None, max_leaf_nodes=None,\n",
              "                       min_impurity_decrease=0.0, min_impurity_split=None,\n",
              "                       min_samples_leaf=1, min_samples_split=2,\n",
              "                       min_weight_fraction_leaf=0.0, presort='deprecated',\n",
              "                       random_state=None, splitter='best')"
            ]
          },
          "metadata": {
            "tags": []
          },
          "execution_count": 7
        }
      ]
    },
    {
      "cell_type": "markdown",
      "metadata": {
        "id": "slap5jbZC1UT"
      },
      "source": [
        "**Criação do KFold com 10 iterações e Shuffle para embaralhar as linhas, desagrupando os municipios de seus estados**\n",
        "\n",
        "---\n",
        "\n"
      ]
    },
    {
      "cell_type": "code",
      "metadata": {
        "id": "Bf6jADi2DTi1"
      },
      "source": [
        "cv = KFold(n_splits=10, random_state=0, shuffle=True)"
      ],
      "execution_count": 81,
      "outputs": []
    },
    {
      "cell_type": "code",
      "metadata": {
        "id": "sVJY9SpdZpPr"
      },
      "source": [
        "scoring = {'accuracy' : make_scorer(accuracy_score), \n",
        "           'precision' : make_scorer(precision_score, average = 'micro'),\n",
        "           'recall' : make_scorer(recall_score, average = 'micro'), \n",
        "           'f1_score' : make_scorer(f1_score, average = 'micro')}"
      ],
      "execution_count": 55,
      "outputs": []
    },
    {
      "cell_type": "markdown",
      "metadata": {
        "id": "Oe7rCwumLDuY"
      },
      "source": [
        "**Teste com validação cruzada**"
      ]
    },
    {
      "cell_type": "code",
      "metadata": {
        "id": "FrFw8q6kPHuk"
      },
      "source": [
        "#a função cross_val_score recebe por parâmetro o modelo\n",
        "#todos os dados para treino, os dados de classes, a quandidade de fodls e o metodo de avaliação\n",
        "\n",
        "scores = cross_validate(arvore_inc, \n",
        "                        previsores, \n",
        "                        classe_inc,\n",
        "                        cv=cv,\n",
        "                        scoring=scoring,\n",
        "                        return_train_score=False)"
      ],
      "execution_count": 82,
      "outputs": []
    },
    {
      "cell_type": "code",
      "metadata": {
        "colab": {
          "base_uri": "https://localhost:8080/"
        },
        "id": "EvJMAgkYpjo0",
        "outputId": "2dcca8a3-07be-4fd7-ec94-d29622060f70"
      },
      "source": [
        "scores"
      ],
      "execution_count": 78,
      "outputs": [
        {
          "output_type": "execute_result",
          "data": {
            "text/plain": [
              "{'fit_time': array([0.48969007, 0.35803986, 0.45551443, 0.48011827, 0.47732162,\n",
              "        0.49319673, 0.41508126, 0.4155364 , 0.46190333, 0.48652315]),\n",
              " 'score_time': array([0.00447989, 0.00348186, 0.00450325, 0.00454974, 0.00442624,\n",
              "        0.00686693, 0.00339746, 0.00497675, 0.00441527, 0.00339389]),\n",
              " 'test_accuracy': array([0.57809695, 0.62477558, 0.56193896, 0.60861759, 0.59066427,\n",
              "        0.55755396, 0.56294964, 0.60251799, 0.57374101, 0.57194245]),\n",
              " 'test_f1_score': array([0.57809695, 0.62477558, 0.56193896, 0.60861759, 0.59066427,\n",
              "        0.55755396, 0.56294964, 0.60251799, 0.57374101, 0.57194245]),\n",
              " 'test_precision': array([0.57809695, 0.62477558, 0.56193896, 0.60861759, 0.59066427,\n",
              "        0.55755396, 0.56294964, 0.60251799, 0.57374101, 0.57194245]),\n",
              " 'test_recall': array([0.57809695, 0.62477558, 0.56193896, 0.60861759, 0.59066427,\n",
              "        0.55755396, 0.56294964, 0.60251799, 0.57374101, 0.57194245])}"
            ]
          },
          "metadata": {
            "tags": []
          },
          "execution_count": 78
        }
      ]
    },
    {
      "cell_type": "code",
      "metadata": {
        "id": "z2C0eVlj_w7A"
      },
      "source": [
        "#a função cross_val_score recebe por parâmetro o modelo\n",
        "#todos os dados para treino, os dados de classes, a quandidade de fodls e o metodo de avaliação\n",
        "\n",
        "scores2 = cross_validate(arvore_mort, \n",
        "                         previsores, \n",
        "                         classe_mort,\n",
        "                         scoring=scoring,\n",
        "                         cv=cv,\n",
        "                         return_train_score=False)"
      ],
      "execution_count": 83,
      "outputs": []
    },
    {
      "cell_type": "code",
      "metadata": {
        "colab": {
          "base_uri": "https://localhost:8080/"
        },
        "id": "XZw5eT-rqbXX",
        "outputId": "86ccb58e-13b6-4e65-c3a4-dabf491c2022"
      },
      "source": [
        "scores2"
      ],
      "execution_count": 84,
      "outputs": [
        {
          "output_type": "execute_result",
          "data": {
            "text/plain": [
              "{'fit_time': array([0.38885045, 0.43545437, 0.47047186, 0.45097685, 0.4671452 ,\n",
              "        0.46535206, 0.48025298, 0.46376753, 0.44988108, 0.48883605]),\n",
              " 'score_time': array([0.00358367, 0.00474811, 0.00486565, 0.00492001, 0.00473666,\n",
              "        0.00457907, 0.00470591, 0.00457597, 0.00476384, 0.00479031]),\n",
              " 'test_accuracy': array([0.53500898, 0.54578097, 0.52962298, 0.51346499, 0.53141831,\n",
              "        0.51258993, 0.51978417, 0.5557554 , 0.54136691, 0.53597122]),\n",
              " 'test_f1_score': array([0.53500898, 0.54578097, 0.52962298, 0.51346499, 0.53141831,\n",
              "        0.51258993, 0.51978417, 0.5557554 , 0.54136691, 0.53597122]),\n",
              " 'test_precision': array([0.53500898, 0.54578097, 0.52962298, 0.51346499, 0.53141831,\n",
              "        0.51258993, 0.51978417, 0.5557554 , 0.54136691, 0.53597122]),\n",
              " 'test_recall': array([0.53500898, 0.54578097, 0.52962298, 0.51346499, 0.53141831,\n",
              "        0.51258993, 0.51978417, 0.5557554 , 0.54136691, 0.53597122])}"
            ]
          },
          "metadata": {
            "tags": []
          },
          "execution_count": 84
        }
      ]
    },
    {
      "cell_type": "markdown",
      "metadata": {
        "id": "w7lmvOz7VcfB"
      },
      "source": [
        "**Imprimindo os resultados dos folds**"
      ]
    },
    {
      "cell_type": "code",
      "metadata": {
        "id": "2jMWT2n0P7my",
        "colab": {
          "base_uri": "https://localhost:8080/"
        },
        "outputId": "74c4f968-f9ae-45b7-c36b-623774acc471"
      },
      "source": [
        "scores #array com resultado de cada execução (previsão)"
      ],
      "execution_count": null,
      "outputs": [
        {
          "output_type": "execute_result",
          "data": {
            "text/plain": [
              "array([0.60861759, 0.60682226, 0.56552962, 0.61041293, 0.59425494,\n",
              "       0.55755396, 0.55395683, 0.58992806, 0.56834532, 0.58453237])"
            ]
          },
          "metadata": {
            "tags": []
          },
          "execution_count": 14
        }
      ]
    },
    {
      "cell_type": "code",
      "metadata": {
        "id": "ilKy9Ltl_5Ch",
        "colab": {
          "base_uri": "https://localhost:8080/"
        },
        "outputId": "af3e507a-f6c8-4968-b024-514f36e6ef39"
      },
      "source": [
        "scores2 #array com resultado de cada execução (previsão)"
      ],
      "execution_count": null,
      "outputs": [
        {
          "output_type": "execute_result",
          "data": {
            "text/plain": [
              "array([0.52962298, 0.55116697, 0.53680431, 0.51346499, 0.51526032,\n",
              "       0.53597122, 0.49460432, 0.55395683, 0.53776978, 0.54136691])"
            ]
          },
          "metadata": {
            "tags": []
          },
          "execution_count": 16
        }
      ]
    },
    {
      "cell_type": "markdown",
      "metadata": {
        "id": "QQuH1jyqn__3"
      },
      "source": [
        "# **Predição e Matriz de confusão**"
      ]
    },
    {
      "cell_type": "markdown",
      "metadata": {
        "id": "CNReNSvGBK66"
      },
      "source": [
        "### Predição e Matriz da incidência"
      ]
    },
    {
      "cell_type": "code",
      "metadata": {
        "id": "7Pp5lz9yh1mf",
        "colab": {
          "base_uri": "https://localhost:8080/"
        },
        "outputId": "757c8a78-3d9c-4db1-e826-44b19812476e"
      },
      "source": [
        "predictions = cross_val_predict(arvore_inc, previsores, classe_inc, cv=cv)\n",
        "confusao = confusion_matrix(classe_inc, predictions)\n",
        "confusao"
      ],
      "execution_count": null,
      "outputs": [
        {
          "output_type": "execute_result",
          "data": {
            "text/plain": [
              "array([[1624,  210,  800],\n",
              "       [ 199,  100,  132],\n",
              "       [ 823,  177, 1500]])"
            ]
          },
          "metadata": {
            "tags": []
          },
          "execution_count": 17
        }
      ]
    },
    {
      "cell_type": "code",
      "metadata": {
        "id": "KpS6xnkaoGn2",
        "colab": {
          "base_uri": "https://localhost:8080/",
          "height": 373
        },
        "outputId": "d8bedb28-3f57-4255-af3a-b2757d6c64b1"
      },
      "source": [
        "v = ConfusionMatrix(DecisionTreeClassifier())\n",
        "v.fit(previsores, classe_inc)\n",
        "v.score(previsores, predictions)\n",
        "v.poof()"
      ],
      "execution_count": null,
      "outputs": [
        {
          "output_type": "display_data",
          "data": {
            "image/png": "[encoded data removed]",
            "text/plain": [
              "<Figure size 576x396 with 1 Axes>"
            ]
          },
          "metadata": {
            "tags": []
          }
        }
      ]
    },
    {
      "cell_type": "markdown",
      "metadata": {
        "id": "WRPYHSaiBPZQ"
      },
      "source": [
        "### Predição e Matriz da mortalidade"
      ]
    },
    {
      "cell_type": "code",
      "metadata": {
        "id": "NhvCjKyFATS1",
        "colab": {
          "base_uri": "https://localhost:8080/"
        },
        "outputId": "e0377a28-7123-408f-b169-48fbd646e226"
      },
      "source": [
        "predictions2 = cross_val_predict(arvore_mort, previsores, classe_mort, cv=cv)\n",
        "confusao2 = confusion_matrix(classe_mort, predictions2)\n",
        "confusao2"
      ],
      "execution_count": null,
      "outputs": [
        {
          "output_type": "execute_result",
          "data": {
            "text/plain": [
              "array([[1173,  252,  737],\n",
              "       [ 238,  269,  322],\n",
              "       [ 700,  368, 1506]])"
            ]
          },
          "metadata": {
            "tags": []
          },
          "execution_count": 19
        }
      ]
    },
    {
      "cell_type": "code",
      "metadata": {
        "id": "piPB7HNPAeDw",
        "colab": {
          "base_uri": "https://localhost:8080/",
          "height": 373
        },
        "outputId": "c0262467-1162-4fd0-dd92-72f4cc40423e"
      },
      "source": [
        "v2 = ConfusionMatrix(DecisionTreeClassifier())\n",
        "v2.fit(previsores, classe_mort)\n",
        "v2.score(previsores, predictions2)\n",
        "v2.poof()"
      ],
      "execution_count": null,
      "outputs": [
        {
          "output_type": "display_data",
          "data": {
            "image/png": "[encoded data removed]",
            "text/plain": [
              "<Figure size 576x396 with 1 Axes>"
            ]
          },
          "metadata": {
            "tags": []
          }
        }
      ]
    },
    {
      "cell_type": "markdown",
      "metadata": {
        "id": "f3-pShdgRVH2"
      },
      "source": [
        "**Taxa de acerto**"
      ]
    },
    {
      "cell_type": "code",
      "metadata": {
        "id": "cYwDl717QRZx",
        "colab": {
          "base_uri": "https://localhost:8080/"
        },
        "outputId": "911f4d40-2373-42bb-ffc0-8497777e1e62"
      },
      "source": [
        "scores.mean() #méd"
      ],
      "execution_count": null,
      "outputs": [
        {
          "output_type": "execute_result",
          "data": {
            "text/plain": [
              "0.5839953889671028"
            ]
          },
          "metadata": {
            "tags": []
          },
          "execution_count": 21
        }
      ]
    },
    {
      "cell_type": "code",
      "metadata": {
        "id": "58nGQwNkAkjB",
        "colab": {
          "base_uri": "https://localhost:8080/"
        },
        "outputId": "0d0db81f-cb64-4ad5-ffcb-11095af0cf69"
      },
      "source": [
        "scores2.mean()"
      ],
      "execution_count": null,
      "outputs": [
        {
          "output_type": "execute_result",
          "data": {
            "text/plain": [
              "0.5309988633868489"
            ]
          },
          "metadata": {
            "tags": []
          },
          "execution_count": 22
        }
      ]
    },
    {
      "cell_type": "markdown",
      "metadata": {
        "id": "6kuwHCx2P1Ah"
      },
      "source": [
        "### **Métricas de avaliação**"
      ]
    },
    {
      "cell_type": "code",
      "metadata": {
        "id": "jS8OBxQmP4i-",
        "colab": {
          "base_uri": "https://localhost:8080/"
        },
        "outputId": "b42ce7f8-2588-4d76-dd1a-1c9189932d48"
      },
      "source": [
        "#Acurácia da predição de incidência\n",
        "print('Accuracy: %.3f (%.3f)' % (mean(scores), std(scores)))"
      ],
      "execution_count": null,
      "outputs": [
        {
          "output_type": "stream",
          "text": [
            "Accuracy: 0.584 (0.020)\n"
          ],
          "name": "stdout"
        }
      ]
    },
    {
      "cell_type": "code",
      "metadata": {
        "id": "pd3cDCnwH-Mm"
      },
      "source": [
        "#Precisão da predição de incidência\n"
      ],
      "execution_count": null,
      "outputs": []
    },
    {
      "cell_type": "code",
      "metadata": {
        "id": "_no-fdkKAx9n",
        "colab": {
          "base_uri": "https://localhost:8080/"
        },
        "outputId": "359d667b-d91b-41b3-f37d-f74537bb36e2"
      },
      "source": [
        "#Acurácia da predição de mortalidade\n",
        "print('Accuracy: %.3f (%.3f)' % (mean(scores2), std(scores2)))"
      ],
      "execution_count": null,
      "outputs": [
        {
          "output_type": "stream",
          "text": [
            "Accuracy: 0.531 (0.017)\n"
          ],
          "name": "stdout"
        }
      ]
    },
    {
      "cell_type": "markdown",
      "metadata": {
        "id": "9NSu3qfqFgvm"
      },
      "source": [
        "**Exportação da árvore de decisão do algoritmo de treinamento, com o formato .dot para posterior visualização**"
      ]
    },
    {
      "cell_type": "code",
      "metadata": {
        "id": "mq0X0OPDEKe3"
      },
      "source": [
        "export_graphviz(arvore_inc, \n",
        "                out_file = 'tree_inc.dot',\n",
        "                feature_names = ['media_mes', 'expec_vida', 'taxa_fecund','MORT1','%sobreviver_60a','taxa_envelh','expec_anos_estudo_18','T_ANALF11A14','T_ANALF25M','T_ATRASO_0_BASICO','T_ATRASO_2_BASICO','T_FLPRE','T_FLSUPER','T_FREQSUPER1517','T_MED25M','T_SUPER25M','GINI','PIND','PINDCRI','PMPOB','PMPOBCRI','RDPC','CPR','EMP','P_AGRO','P_COM','P_CONSTR','P_EXTR','P_FORMAL','P_FUND','P_MED','P_SERV','P_SIUP','P_SUPER','T_DES2529','TRABCC','TRABPUB','TRABSC','T_AGUA','T_BANAGUA','T_DENS','T_LIXO','T_LUZ','AGUA_ESGOTO','PAREDE','T_CRIFUNDIN_TODOS','T_FORA4A5','T_FORA6A14','T_FUNDIN_TODOS','T_FUNDIN_TODOS_MMEIO','T_FUNDIN18MINF','T_M10A14CF','T_M15A17CF','T_MULCHEFEFIF014','T_NESTUDA_NTRAB_MMEIO','T_OCUPDESLOC_1','T_RMAXIDOSO','T_SLUZ','HOMEMTOT','MULHERTOT','pesoRUR','pesotot','pesourb','POP','IDHM','IDHM_E','IDHM_L','IDHM_R','estimated_population_2019'],\n",
        "                class_names = ['0', '1', '2'],\n",
        "                filled = True,\n",
        "                leaves_parallel=True)"
      ],
      "execution_count": null,
      "outputs": []
    },
    {
      "cell_type": "code",
      "metadata": {
        "id": "1CS0ibmuko9T"
      },
      "source": [
        "export_graphviz(arvore_mort, \n",
        "                out_file = 'tree_mort.dot',\n",
        "                feature_names = ['media_mes', 'expec_vida', 'taxa_fecund','MORT1','%sobreviver_60a','taxa_envelh','expec_anos_estudo_18','T_ANALF11A14','T_ANALF25M','T_ATRASO_0_BASICO','T_ATRASO_2_BASICO','T_FLPRE','T_FLSUPER','T_FREQSUPER1517','T_MED25M','T_SUPER25M','GINI','PIND','PINDCRI','PMPOB','PMPOBCRI','RDPC','CPR','EMP','P_AGRO','P_COM','P_CONSTR','P_EXTR','P_FORMAL','P_FUND','P_MED','P_SERV','P_SIUP','P_SUPER','T_DES2529','TRABCC','TRABPUB','TRABSC','T_AGUA','T_BANAGUA','T_DENS','T_LIXO','T_LUZ','AGUA_ESGOTO','PAREDE','T_CRIFUNDIN_TODOS','T_FORA4A5','T_FORA6A14','T_FUNDIN_TODOS','T_FUNDIN_TODOS_MMEIO','T_FUNDIN18MINF','T_M10A14CF','T_M15A17CF','T_MULCHEFEFIF014','T_NESTUDA_NTRAB_MMEIO','T_OCUPDESLOC_1','T_RMAXIDOSO','T_SLUZ','HOMEMTOT','MULHERTOT','pesoRUR','pesotot','pesourb','POP','IDHM','IDHM_E','IDHM_L','IDHM_R','estimated_population_2019'],\n",
        "                class_names = ['0', '1', '2'],\n",
        "                filled = True,\n",
        "                leaves_parallel=True)"
      ],
      "execution_count": null,
      "outputs": []
    }
  ]
}