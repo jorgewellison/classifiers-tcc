{
  "nbformat": 4,
  "nbformat_minor": 0,
  "metadata": {
    "colab": {
      "name": "Árvore - Análise preditiva da incidência e mortalidade da COVID-19.ipynb",
      "provenance": [],
      "collapsed_sections": [],
      "toc_visible": true,
      "include_colab_link": true
    },
    "kernelspec": {
      "name": "python3",
      "display_name": "Python 3"
    }
  },
  "cells": [
    {
      "cell_type": "markdown",
      "metadata": {
        "id": "view-in-github",
        "colab_type": "text"
      },
      "source": [
        "<a href=\"https://colab.research.google.com/github/jorgewellison/classifiers-tcc/blob/main/Decision-tree.ipynb\" target=\"_parent\"><img src=\"https://colab.research.google.com/assets/colab-badge.svg\" alt=\"Open In Colab\"/></a>"
      ]
    },
    {
      "cell_type": "markdown",
      "metadata": {
        "id": "EEUc8VhJVe2z"
      },
      "source": [
        "#**Configurações iniciais**"
      ]
    },
    {
      "cell_type": "code",
      "metadata": {
        "id": "gGBTcftc7Dz7",
        "colab": {
          "base_uri": "https://localhost:8080/"
        },
        "outputId": "58e62b7f-4ff8-4a46-f605-37187ba45120"
      },
      "source": [
        "from google.colab import drive\n",
        "drive.mount('/content/drive', force_remount=True)"
      ],
      "execution_count": 1,
      "outputs": [
        {
          "output_type": "stream",
          "text": [
            "Mounted at /content/drive\n"
          ],
          "name": "stdout"
        }
      ]
    },
    {
      "cell_type": "markdown",
      "metadata": {
        "id": "Rfuyj56F_ibU"
      },
      "source": [
        "**Importação das bibliotecas**"
      ]
    },
    {
      "cell_type": "code",
      "metadata": {
        "id": "xUoD9d9udQ7e"
      },
      "source": [
        "import pandas as pd\n",
        "import numpy as np\n",
        "from numpy import mean\n",
        "from numpy import std\n",
        "import seaborn as sns\n",
        "import matplotlib.pyplot as plt\n",
        "import sklearn.metrics as metrics\n",
        "from sklearn.model_selection import train_test_split, KFold\n",
        "from sklearn.ensemble import RandomForestClassifier\n",
        "from sklearn.metrics import make_scorer, confusion_matrix, accuracy_score, precision_score, recall_score, f1_score\n",
        "from sklearn.tree import DecisionTreeClassifier, export\n",
        "from sklearn.model_selection import KFold\n",
        "from yellowbrick.classifier import ConfusionMatrix\n",
        "import graphviz\n",
        "from sklearn.tree import export_graphviz\n",
        "from sklearn.model_selection import cross_val_score, cross_val_predict, cross_validate\n",
        "from sklearn import preprocessing, tree\n"
      ],
      "execution_count": 13,
      "outputs": []
    },
    {
      "cell_type": "markdown",
      "metadata": {
        "id": "wPj8tkmaV1fi"
      },
      "source": [
        "**Importando previsores e classe (tratados no pré-processamento)**\n",
        "\n",
        "previsores -> variáveis independentes - X\n",
        "\n",
        "classe -> variável dependente - y"
      ]
    },
    {
      "cell_type": "code",
      "metadata": {
        "id": "iJQWVjdVP-y0"
      },
      "source": [
        "previsores = pd.read_csv(\"/content/drive/My Drive/Colab Notebooks/covid-idhm/previsores_.csv\") \n",
        "classe_inc = pd.read_csv(\"/content/drive/My Drive/Colab Notebooks/covid-idhm/classe_inc.csv\") \n",
        "classe_mort = pd.read_csv(\"/content/drive/My Drive/Colab Notebooks/covid-idhm/classe_mort.csv\") \n"
      ],
      "execution_count": 3,
      "outputs": []
    },
    {
      "cell_type": "markdown",
      "metadata": {
        "id": "7A8NJ7eCDsch"
      },
      "source": [
        "#**Criação e treinamento dos modelos**"
      ]
    },
    {
      "cell_type": "code",
      "metadata": {
        "id": "Ulpo9rH3EKg2",
        "colab": {
          "base_uri": "https://localhost:8080/"
        },
        "outputId": "3ea98a22-4a58-4bef-ec39-ab19327e7ea4"
      },
      "source": [
        "arvore_inc = DecisionTreeClassifier()\n",
        "arvore_inc.fit(previsores, classe_inc)\n"
      ],
      "execution_count": 4,
      "outputs": [
        {
          "output_type": "execute_result",
          "data": {
            "text/plain": [
              "DecisionTreeClassifier(ccp_alpha=0.0, class_weight=None, criterion='gini',\n",
              "                       max_depth=None, max_features=None, max_leaf_nodes=None,\n",
              "                       min_impurity_decrease=0.0, min_impurity_split=None,\n",
              "                       min_samples_leaf=1, min_samples_split=2,\n",
              "                       min_weight_fraction_leaf=0.0, presort='deprecated',\n",
              "                       random_state=None, splitter='best')"
            ]
          },
          "metadata": {
            "tags": []
          },
          "execution_count": 4
        }
      ]
    },
    {
      "cell_type": "code",
      "metadata": {
        "id": "4oYqpFDV_h_n",
        "colab": {
          "base_uri": "https://localhost:8080/"
        },
        "outputId": "6f8b535a-0cc7-4c22-db82-142d359d28eb"
      },
      "source": [
        "arvore_mort = DecisionTreeClassifier()\n",
        "arvore_mort.fit(previsores, classe_mort)\n"
      ],
      "execution_count": 5,
      "outputs": [
        {
          "output_type": "execute_result",
          "data": {
            "text/plain": [
              "DecisionTreeClassifier(ccp_alpha=0.0, class_weight=None, criterion='gini',\n",
              "                       max_depth=None, max_features=None, max_leaf_nodes=None,\n",
              "                       min_impurity_decrease=0.0, min_impurity_split=None,\n",
              "                       min_samples_leaf=1, min_samples_split=2,\n",
              "                       min_weight_fraction_leaf=0.0, presort='deprecated',\n",
              "                       random_state=None, splitter='best')"
            ]
          },
          "metadata": {
            "tags": []
          },
          "execution_count": 5
        }
      ]
    },
    {
      "cell_type": "markdown",
      "metadata": {
        "id": "Oe7rCwumLDuY"
      },
      "source": [
        "#**Testes com validação cruzada**"
      ]
    },
    {
      "cell_type": "markdown",
      "metadata": {
        "id": "slap5jbZC1UT"
      },
      "source": [
        "**Criação do KFold com 10 iterações e Shuffle para embaralhar as linhas, desagrupando os municipios de seus estados**\n",
        "\n",
        "---\n",
        "\n"
      ]
    },
    {
      "cell_type": "code",
      "metadata": {
        "id": "Bf6jADi2DTi1"
      },
      "source": [
        "cv = KFold(n_splits=10, random_state=0, shuffle=True)"
      ],
      "execution_count": 6,
      "outputs": []
    },
    {
      "cell_type": "code",
      "metadata": {
        "id": "sVJY9SpdZpPr"
      },
      "source": [
        "scoring = {'accuracy' : make_scorer(accuracy_score), \n",
        "           'precision' : make_scorer(precision_score, average = 'macro'),\n",
        "           'recall' : make_scorer(recall_score, average = 'macro'), \n",
        "           'f1_score' : make_scorer(f1_score, average = 'macro')}"
      ],
      "execution_count": 9,
      "outputs": []
    },
    {
      "cell_type": "markdown",
      "metadata": {
        "id": "3R-0-yWKr6k7"
      },
      "source": [
        "##Testes de incidência"
      ]
    },
    {
      "cell_type": "code",
      "metadata": {
        "id": "FrFw8q6kPHuk"
      },
      "source": [
        "#a função cross_validate recebe por parâmetro o modelo\n",
        "#todos os dados para treino, os dados de classes, a quandidade de folds e o metodo de avaliação\n",
        "\n",
        "scores = cross_validate(arvore_inc, \n",
        "                        previsores, \n",
        "                        classe_inc,\n",
        "                        cv=cv,\n",
        "                        scoring=scoring,\n",
        "                        return_train_score=False)"
      ],
      "execution_count": 10,
      "outputs": []
    },
    {
      "cell_type": "markdown",
      "metadata": {
        "id": "itxRXmuatJfO"
      },
      "source": [
        "###Avaliação dos testes"
      ]
    },
    {
      "cell_type": "code",
      "metadata": {
        "colab": {
          "base_uri": "https://localhost:8080/"
        },
        "id": "EvJMAgkYpjo0",
        "outputId": "b7b26c49-0593-4b80-c5d2-d02cdb996761"
      },
      "source": [
        "scores"
      ],
      "execution_count": 11,
      "outputs": [
        {
          "output_type": "execute_result",
          "data": {
            "text/plain": [
              "{'fit_time': array([0.38452816, 0.38652444, 0.39846587, 0.37235951, 0.37304664,\n",
              "        0.38579702, 0.37774348, 0.37159729, 0.35644937, 0.38905907]),\n",
              " 'score_time': array([0.00454092, 0.00446296, 0.00492477, 0.00550604, 0.00448537,\n",
              "        0.00430036, 0.00441694, 0.00439811, 0.00440025, 0.00457335]),\n",
              " 'test_accuracy': array([0.59066427, 0.61400359, 0.56014363, 0.60861759, 0.56193896,\n",
              "        0.5557554 , 0.55215827, 0.58273381, 0.57014388, 0.58453237]),\n",
              " 'test_f1_score': array([0.51492689, 0.5259669 , 0.45950315, 0.48699273, 0.44932796,\n",
              "        0.45731088, 0.44217401, 0.48282274, 0.4599948 , 0.4901519 ]),\n",
              " 'test_precision': array([0.50909436, 0.52146339, 0.46094789, 0.48878747, 0.44975245,\n",
              "        0.45560216, 0.44354209, 0.48181835, 0.45899049, 0.48610761]),\n",
              " 'test_recall': array([0.5228695 , 0.53381623, 0.4584534 , 0.48866138, 0.44913637,\n",
              "        0.45962847, 0.44196414, 0.48473843, 0.47026287, 0.4975291 ])}"
            ]
          },
          "metadata": {
            "tags": []
          },
          "execution_count": 11
        }
      ]
    },
    {
      "cell_type": "markdown",
      "metadata": {
        "id": "MgstSgEEsBtR"
      },
      "source": [
        "##Testes de mortalidade"
      ]
    },
    {
      "cell_type": "code",
      "metadata": {
        "id": "z2C0eVlj_w7A"
      },
      "source": [
        "#a função cross_validate recebe por parâmetro o modelo\n",
        "#todos os dados para treino, os dados de classes, a quandidade de folds e o metodo de avaliação\n",
        "\n",
        "scores2 = cross_validate(arvore_mort, \n",
        "                         previsores, \n",
        "                         classe_mort,\n",
        "                         scoring=scoring,\n",
        "                         cv=cv,\n",
        "                         return_train_score=False)"
      ],
      "execution_count": 15,
      "outputs": []
    },
    {
      "cell_type": "markdown",
      "metadata": {
        "id": "27wrMjUotSp6"
      },
      "source": [
        "###Avaliação dos testes"
      ]
    },
    {
      "cell_type": "code",
      "metadata": {
        "colab": {
          "base_uri": "https://localhost:8080/"
        },
        "id": "XZw5eT-rqbXX",
        "outputId": "af4fc032-e8ca-4b90-ebd2-7088a3eae83e"
      },
      "source": [
        "scores2"
      ],
      "execution_count": 16,
      "outputs": [
        {
          "output_type": "execute_result",
          "data": {
            "text/plain": [
              "{'fit_time': array([0.3496139 , 0.35262108, 0.38365841, 0.34559536, 0.35988665,\n",
              "        0.37170529, 0.35961604, 0.36277866, 0.34436369, 0.36322474]),\n",
              " 'score_time': array([0.00536108, 0.00489807, 0.00459838, 0.00426269, 0.007061  ,\n",
              "        0.0055778 , 0.00474501, 0.00431323, 0.00442886, 0.00450635]),\n",
              " 'test_accuracy': array([0.54039497, 0.53859964, 0.54039497, 0.51526032, 0.52244165,\n",
              "        0.52338129, 0.50539568, 0.54496403, 0.54676259, 0.52517986]),\n",
              " 'test_f1_score': array([0.48214519, 0.4888159 , 0.47998953, 0.46861784, 0.46842444,\n",
              "        0.47961136, 0.45067051, 0.49773056, 0.48519419, 0.48559861]),\n",
              " 'test_precision': array([0.48101251, 0.48810586, 0.48219769, 0.47168253, 0.47059006,\n",
              "        0.47945126, 0.45023551, 0.49803732, 0.48533511, 0.48640366]),\n",
              " 'test_recall': array([0.49140668, 0.49026752, 0.47908412, 0.46716111, 0.46710295,\n",
              "        0.48186976, 0.451279  , 0.49768671, 0.48630952, 0.4856413 ])}"
            ]
          },
          "metadata": {
            "tags": []
          },
          "execution_count": 16
        }
      ]
    },
    {
      "cell_type": "markdown",
      "metadata": {
        "id": "QQuH1jyqn__3"
      },
      "source": [
        "# **Predição e Matriz de confusão**"
      ]
    },
    {
      "cell_type": "markdown",
      "metadata": {
        "id": "CNReNSvGBK66"
      },
      "source": [
        "### Predição e Matriz da incidência"
      ]
    },
    {
      "cell_type": "code",
      "metadata": {
        "id": "7Pp5lz9yh1mf",
        "colab": {
          "base_uri": "https://localhost:8080/"
        },
        "outputId": "6cf6ce57-4023-40b5-a4a7-c9de8cf77251"
      },
      "source": [
        "predictions = cross_val_predict(arvore_inc, previsores, classe_inc, cv=cv)\n",
        "confusao = confusion_matrix(classe_inc, predictions)\n",
        "confusao"
      ],
      "execution_count": 17,
      "outputs": [
        {
          "output_type": "execute_result",
          "data": {
            "text/plain": [
              "array([[1618,  195,  821],\n",
              "       [ 192,   92,  147],\n",
              "       [ 823,  154, 1523]])"
            ]
          },
          "metadata": {
            "tags": []
          },
          "execution_count": 17
        }
      ]
    },
    {
      "cell_type": "code",
      "metadata": {
        "id": "KpS6xnkaoGn2",
        "colab": {
          "base_uri": "https://localhost:8080/",
          "height": 373
        },
        "outputId": "e25e3966-b21e-4191-9d43-87c848360087"
      },
      "source": [
        "v = ConfusionMatrix(DecisionTreeClassifier())\n",
        "v.fit(previsores, classe_inc)\n",
        "v.score(previsores, predictions)\n",
        "v.poof()"
      ],
      "execution_count": 18,
      "outputs": [
        {
          "output_type": "display_data",
          "data": {
            "image/png": "[encoded data removed]",
            "text/plain": [
              "<Figure size 576x396 with 1 Axes>"
            ]
          },
          "metadata": {
            "tags": []
          }
        }
      ]
    },
    {
      "cell_type": "markdown",
      "metadata": {
        "id": "WRPYHSaiBPZQ"
      },
      "source": [
        "### Predição e Matriz da mortalidade"
      ]
    },
    {
      "cell_type": "code",
      "metadata": {
        "id": "NhvCjKyFATS1",
        "colab": {
          "base_uri": "https://localhost:8080/"
        },
        "outputId": "308a89fa-8682-400a-85c2-308d9759e54a"
      },
      "source": [
        "predictions2 = cross_val_predict(arvore_mort, previsores, classe_mort, cv=cv)\n",
        "confusao2 = confusion_matrix(classe_mort, predictions2)\n",
        "confusao2"
      ],
      "execution_count": 19,
      "outputs": [
        {
          "output_type": "execute_result",
          "data": {
            "text/plain": [
              "array([[1186,  245,  731],\n",
              "       [ 238,  247,  344],\n",
              "       [ 703,  350, 1521]])"
            ]
          },
          "metadata": {
            "tags": []
          },
          "execution_count": 19
        }
      ]
    },
    {
      "cell_type": "code",
      "metadata": {
        "id": "piPB7HNPAeDw",
        "colab": {
          "base_uri": "https://localhost:8080/",
          "height": 373
        },
        "outputId": "26f49c55-d7d9-4232-8d01-5bc6ee96ffe8"
      },
      "source": [
        "v2 = ConfusionMatrix(DecisionTreeClassifier())\n",
        "v2.fit(previsores, classe_mort)\n",
        "v2.score(previsores, predictions2)\n",
        "v2.poof()"
      ],
      "execution_count": 20,
      "outputs": [
        {
          "output_type": "display_data",
          "data": {
            "image/png": "[encoded data removed]",
            "text/plain": [
              "<Figure size 576x396 with 1 Axes>"
            ]
          },
          "metadata": {
            "tags": []
          }
        }
      ]
    },
    {
      "cell_type": "markdown",
      "metadata": {
        "id": "f3-pShdgRVH2"
      },
      "source": [
        "**Taxa de acerto**"
      ]
    },
    {
      "cell_type": "code",
      "metadata": {
        "id": "cYwDl717QRZx",
        "colab": {
          "base_uri": "https://localhost:8080/"
        },
        "outputId": "911f4d40-2373-42bb-ffc0-8497777e1e62"
      },
      "source": [
        "scores.mean() #méd"
      ],
      "execution_count": null,
      "outputs": [
        {
          "output_type": "execute_result",
          "data": {
            "text/plain": [
              "0.5839953889671028"
            ]
          },
          "metadata": {
            "tags": []
          },
          "execution_count": 21
        }
      ]
    },
    {
      "cell_type": "code",
      "metadata": {
        "id": "58nGQwNkAkjB",
        "colab": {
          "base_uri": "https://localhost:8080/"
        },
        "outputId": "0d0db81f-cb64-4ad5-ffcb-11095af0cf69"
      },
      "source": [
        "scores2.mean()"
      ],
      "execution_count": null,
      "outputs": [
        {
          "output_type": "execute_result",
          "data": {
            "text/plain": [
              "0.5309988633868489"
            ]
          },
          "metadata": {
            "tags": []
          },
          "execution_count": 22
        }
      ]
    },
    {
      "cell_type": "markdown",
      "metadata": {
        "id": "6kuwHCx2P1Ah"
      },
      "source": [
        "# **Métricas de avaliação**"
      ]
    },
    {
      "cell_type": "markdown",
      "metadata": {
        "id": "tJ2DoAbBezaj"
      },
      "source": [
        "**Predição de Incidência**"
      ]
    },
    {
      "cell_type": "code",
      "metadata": {
        "colab": {
          "base_uri": "https://localhost:8080/"
        },
        "id": "_-mdlrzteoyL",
        "outputId": "710bd1ae-b931-4bbb-f72c-5ae68ed8b106"
      },
      "source": [
        "metrics.accuracy_score(classe_inc, predictions)"
      ],
      "execution_count": 21,
      "outputs": [
        {
          "output_type": "execute_result",
          "data": {
            "text/plain": [
              "0.580952380952381"
            ]
          },
          "metadata": {
            "tags": []
          },
          "execution_count": 21
        }
      ]
    },
    {
      "cell_type": "code",
      "metadata": {
        "colab": {
          "base_uri": "https://localhost:8080/"
        },
        "id": "sBIbBsV6fj38",
        "outputId": "2a0571ae-e9d1-40c3-df63-09ba6504b863"
      },
      "source": [
        "metrics.precision_score(classe_inc, predictions, average=None)"
      ],
      "execution_count": 29,
      "outputs": [
        {
          "output_type": "execute_result",
          "data": {
            "text/plain": [
              "array([0.61450817, 0.20861678, 0.61140104])"
            ]
          },
          "metadata": {
            "tags": []
          },
          "execution_count": 29
        }
      ]
    },
    {
      "cell_type": "code",
      "metadata": {
        "colab": {
          "base_uri": "https://localhost:8080/"
        },
        "id": "lfm8p2zughEW",
        "outputId": "c06f7775-eaf2-4dd3-afe7-5a8051cacec9"
      },
      "source": [
        "metrics.recall_score(classe_inc, predictions, average=None)"
      ],
      "execution_count": 32,
      "outputs": [
        {
          "output_type": "execute_result",
          "data": {
            "text/plain": [
              "array([0.61427487, 0.21345708, 0.6092    ])"
            ]
          },
          "metadata": {
            "tags": []
          },
          "execution_count": 32
        }
      ]
    },
    {
      "cell_type": "code",
      "metadata": {
        "colab": {
          "base_uri": "https://localhost:8080/"
        },
        "id": "4KttVPCFgwpk",
        "outputId": "60ec3a0e-c9b7-4dee-ec27-8bf11399bde6"
      },
      "source": [
        "metrics.f1_score(classe_inc, predictions, average=None)"
      ],
      "execution_count": 33,
      "outputs": [
        {
          "output_type": "execute_result",
          "data": {
            "text/plain": [
              "array([0.61439149, 0.21100917, 0.61029854])"
            ]
          },
          "metadata": {
            "tags": []
          },
          "execution_count": 33
        }
      ]
    },
    {
      "cell_type": "markdown",
      "metadata": {
        "id": "1r9iVE3Ee2to"
      },
      "source": [
        "**Predição de Mortalidade**"
      ]
    },
    {
      "cell_type": "code",
      "metadata": {
        "colab": {
          "base_uri": "https://localhost:8080/"
        },
        "id": "tUNROdHPeylh",
        "outputId": "e0da291e-e543-440d-b2bc-6fab059a3017"
      },
      "source": [
        "metrics.accuracy_score(classe_mort, predictions2)"
      ],
      "execution_count": 34,
      "outputs": [
        {
          "output_type": "execute_result",
          "data": {
            "text/plain": [
              "0.5308176100628931"
            ]
          },
          "metadata": {
            "tags": []
          },
          "execution_count": 34
        }
      ]
    },
    {
      "cell_type": "code",
      "metadata": {
        "colab": {
          "base_uri": "https://localhost:8080/"
        },
        "id": "fwPLh0wHg5P9",
        "outputId": "415f5566-70cf-44ef-84a1-80daf111a7a8"
      },
      "source": [
        "metrics.precision_score(classe_mort, predictions2, average=None)"
      ],
      "execution_count": 35,
      "outputs": [
        {
          "output_type": "execute_result",
          "data": {
            "text/plain": [
              "array([0.55759285, 0.29334917, 0.58590139])"
            ]
          },
          "metadata": {
            "tags": []
          },
          "execution_count": 35
        }
      ]
    },
    {
      "cell_type": "code",
      "metadata": {
        "colab": {
          "base_uri": "https://localhost:8080/"
        },
        "id": "E_csHcGog5P9",
        "outputId": "bb2a6ea6-1fe1-4450-caeb-3b393a121714"
      },
      "source": [
        "metrics.recall_score(classe_mort, predictions2, average=None)"
      ],
      "execution_count": 36,
      "outputs": [
        {
          "output_type": "execute_result",
          "data": {
            "text/plain": [
              "array([0.54856614, 0.29794934, 0.59090909])"
            ]
          },
          "metadata": {
            "tags": []
          },
          "execution_count": 36
        }
      ]
    },
    {
      "cell_type": "code",
      "metadata": {
        "colab": {
          "base_uri": "https://localhost:8080/"
        },
        "id": "F5QLOMW0g5P9",
        "outputId": "eb4d9d7c-c369-4281-ee40-8dcb516cddf2"
      },
      "source": [
        "metrics.f1_score(classe_mort, predictions2, average=None)"
      ],
      "execution_count": 37,
      "outputs": [
        {
          "output_type": "execute_result",
          "data": {
            "text/plain": [
              "array([0.55304267, 0.29563136, 0.58839458])"
            ]
          },
          "metadata": {
            "tags": []
          },
          "execution_count": 37
        }
      ]
    },
    {
      "cell_type": "markdown",
      "metadata": {
        "id": "9NSu3qfqFgvm"
      },
      "source": [
        "###**Exportação da árvore de decisão do algoritmo de treinamento, com o formato .dot para posterior visualização**"
      ]
    },
    {
      "cell_type": "code",
      "metadata": {
        "id": "mq0X0OPDEKe3"
      },
      "source": [
        "export_graphviz(arvore_inc, \n",
        "                out_file = 'tree_inc.dot',\n",
        "                feature_names = ['media_mes', 'expec_vida', 'taxa_fecund','MORT1','%sobreviver_60a','taxa_envelh','expec_anos_estudo_18','T_ANALF11A14','T_ANALF25M','T_ATRASO_0_BASICO','T_ATRASO_2_BASICO','T_FLPRE','T_FLSUPER','T_FREQSUPER1517','T_MED25M','T_SUPER25M','GINI','PIND','PINDCRI','PMPOB','PMPOBCRI','RDPC','CPR','EMP','P_AGRO','P_COM','P_CONSTR','P_EXTR','P_FORMAL','P_FUND','P_MED','P_SERV','P_SIUP','P_SUPER','T_DES2529','TRABCC','TRABPUB','TRABSC','T_AGUA','T_BANAGUA','T_DENS','T_LIXO','T_LUZ','AGUA_ESGOTO','PAREDE','T_CRIFUNDIN_TODOS','T_FORA4A5','T_FORA6A14','T_FUNDIN_TODOS','T_FUNDIN_TODOS_MMEIO','T_FUNDIN18MINF','T_M10A14CF','T_M15A17CF','T_MULCHEFEFIF014','T_NESTUDA_NTRAB_MMEIO','T_OCUPDESLOC_1','T_RMAXIDOSO','T_SLUZ','HOMEMTOT','MULHERTOT','pesoRUR','pesotot','pesourb','POP','IDHM','IDHM_E','IDHM_L','IDHM_R','estimated_population_2019'],\n",
        "                class_names = ['0', '1', '2'],\n",
        "                filled = True,\n",
        "                leaves_parallel=True)"
      ],
      "execution_count": null,
      "outputs": []
    },
    {
      "cell_type": "code",
      "metadata": {
        "id": "1CS0ibmuko9T"
      },
      "source": [
        "export_graphviz(arvore_mort, \n",
        "                out_file = 'tree_mort.dot',\n",
        "                feature_names = ['media_mes', 'expec_vida', 'taxa_fecund','MORT1','%sobreviver_60a','taxa_envelh','expec_anos_estudo_18','T_ANALF11A14','T_ANALF25M','T_ATRASO_0_BASICO','T_ATRASO_2_BASICO','T_FLPRE','T_FLSUPER','T_FREQSUPER1517','T_MED25M','T_SUPER25M','GINI','PIND','PINDCRI','PMPOB','PMPOBCRI','RDPC','CPR','EMP','P_AGRO','P_COM','P_CONSTR','P_EXTR','P_FORMAL','P_FUND','P_MED','P_SERV','P_SIUP','P_SUPER','T_DES2529','TRABCC','TRABPUB','TRABSC','T_AGUA','T_BANAGUA','T_DENS','T_LIXO','T_LUZ','AGUA_ESGOTO','PAREDE','T_CRIFUNDIN_TODOS','T_FORA4A5','T_FORA6A14','T_FUNDIN_TODOS','T_FUNDIN_TODOS_MMEIO','T_FUNDIN18MINF','T_M10A14CF','T_M15A17CF','T_MULCHEFEFIF014','T_NESTUDA_NTRAB_MMEIO','T_OCUPDESLOC_1','T_RMAXIDOSO','T_SLUZ','HOMEMTOT','MULHERTOT','pesoRUR','pesotot','pesourb','POP','IDHM','IDHM_E','IDHM_L','IDHM_R','estimated_population_2019'],\n",
        "                class_names = ['0', '1', '2'],\n",
        "                filled = True,\n",
        "                leaves_parallel=True)"
      ],
      "execution_count": null,
      "outputs": []
    }
  ]
}