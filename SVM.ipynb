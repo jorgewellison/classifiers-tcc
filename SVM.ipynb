{
  "nbformat": 4,
  "nbformat_minor": 0,
  "metadata": {
    "colab": {
      "name": "SVM - Análise preditiva da incidência e mortalidade da COVID-19.ipynb",
      "provenance": [],
      "collapsed_sections": [],
      "include_colab_link": true
    },
    "kernelspec": {
      "name": "python3",
      "display_name": "Python 3"
    }
  },
  "cells": [
    {
      "cell_type": "markdown",
      "metadata": {
        "id": "view-in-github",
        "colab_type": "text"
      },
      "source": [
        "<a href=\"https://colab.research.google.com/github/jorgewellison/classifiers-tcc/blob/main/SVM.ipynb\" target=\"_parent\"><img src=\"https://colab.research.google.com/assets/colab-badge.svg\" alt=\"Open In Colab\"/></a>"
      ]
    },
    {
      "cell_type": "code",
      "metadata": {
        "id": "TQwRq7E6MEm-",
        "outputId": "df33464c-41b3-4489-dd27-8e56342e2e61",
        "colab": {
          "base_uri": "https://localhost:8080/"
        }
      },
      "source": [
        "from google.colab import drive\n",
        "drive.mount('/content/drive', force_remount=True)"
      ],
      "execution_count": 3,
      "outputs": [
        {
          "output_type": "stream",
          "text": [
            "Mounted at /content/drive\n"
          ],
          "name": "stdout"
        }
      ]
    },
    {
      "cell_type": "markdown",
      "metadata": {
        "id": "Rfuyj56F_ibU"
      },
      "source": [
        "**Importação das bibliotecas**"
      ]
    },
    {
      "cell_type": "code",
      "metadata": {
        "id": "LmZaRgSDBkBp"
      },
      "source": [
        "import pandas as pd\n",
        "import numpy as np\n",
        "from numpy import mean\n",
        "from numpy import std\n",
        "import matplotlib.pyplot as plt\n",
        "from sklearn.model_selection import train_test_split, KFold\n",
        "from sklearn.preprocessing import LabelEncoder\n",
        "from sklearn.metrics import confusion_matrix, accuracy_score\n",
        "from yellowbrick.classifier import ConfusionMatrix\n",
        "from sklearn.svm import SVC\n",
        "from sklearn.ensemble import ExtraTreesClassifier\n",
        "from sklearn.tree import DecisionTreeClassifier, export\n",
        "from sklearn.model_selection import cross_val_score, cross_val_predict\n"
      ],
      "execution_count": 4,
      "outputs": []
    },
    {
      "cell_type": "markdown",
      "metadata": {
        "id": "wPj8tkmaV1fi"
      },
      "source": [
        "**Importando previsores e classe (tratados no pré-processamento)**\n",
        "\n",
        "previsores -> variáveis independentes - X\n",
        "\n",
        "classe -> variável dependente - y"
      ]
    },
    {
      "cell_type": "code",
      "metadata": {
        "id": "iJQWVjdVP-y0"
      },
      "source": [
        "previsores = pd.read_csv(\"/content/drive/My Drive/Colab Notebooks/covid-idhm/previsores.csv\") \n",
        "classe = pd.read_csv(\"/content/drive/My Drive/Colab Notebooks/covid-idhm/classe.csv\") "
      ],
      "execution_count": 5,
      "outputs": []
    },
    {
      "cell_type": "markdown",
      "metadata": {
        "id": "-vpuQSMzQO1D"
      },
      "source": [
        "**Criação do KFold com 10 iterações e Shuffle para embaralhar as linhas, desagrupando os municipios de seus estados**"
      ]
    },
    {
      "cell_type": "code",
      "metadata": {
        "id": "JD4LvtYUQVDi"
      },
      "source": [
        "cv = KFold(n_splits=10, random_state=0, shuffle=True)"
      ],
      "execution_count": 8,
      "outputs": []
    },
    {
      "cell_type": "markdown",
      "metadata": {
        "id": "Vy-E0MoADlQl"
      },
      "source": [
        "**Criação do modelo (máquina de vetores de suporte) e treinamento**"
      ]
    },
    {
      "cell_type": "code",
      "metadata": {
        "id": "UPZNbczlDu4L"
      },
      "source": [
        "svm = SVC(kernel='poly')\n",
        "svm = svm.fit(previsores, classe.values.ravel())"
      ],
      "execution_count": 25,
      "outputs": []
    },
    {
      "cell_type": "markdown",
      "metadata": {
        "id": "Oe7rCwumLDuY"
      },
      "source": [
        "**Testes com validação cruzada**"
      ]
    },
    {
      "cell_type": "code",
      "metadata": {
        "id": "l8yZ4kRvY1Ys"
      },
      "source": [
        "#a função cross_val_score recebe por parâmetro o modelo\n",
        "#todos os dados para treino, os dados de classes, a quandidade de fodls e o metodo de avaliação\n",
        "scores = cross_val_score(svm, previsores, classe.values.ravel(), cv=cv, scoring='accuracy')"
      ],
      "execution_count": 26,
      "outputs": []
    },
    {
      "cell_type": "markdown",
      "metadata": {
        "id": "zz3GuofDFPvD"
      },
      "source": [
        "**Predição e Matriz de confusão**"
      ]
    },
    {
      "cell_type": "code",
      "metadata": {
        "id": "zugRdG5upHs9",
        "outputId": "7cc9a9b6-d070-42ca-9275-befd097a53d6",
        "colab": {
          "base_uri": "https://localhost:8080/"
        }
      },
      "source": [
        "predictions = cross_val_predict(svm, previsores, classe.values.ravel(), cv=cv)\n",
        "confusao = confusion_matrix(classe, predictions)\n",
        "confusao"
      ],
      "execution_count": 27,
      "outputs": [
        {
          "output_type": "execute_result",
          "data": {
            "text/plain": [
              "array([[3576,    8,    0],\n",
              "       [1654,   13,    0],\n",
              "       [ 312,    2,    0]])"
            ]
          },
          "metadata": {
            "tags": []
          },
          "execution_count": 27
        }
      ]
    },
    {
      "cell_type": "markdown",
      "metadata": {
        "id": "w7lmvOz7VcfB"
      },
      "source": [
        "**Imprimindo os resultados dos folds**"
      ]
    },
    {
      "cell_type": "code",
      "metadata": {
        "id": "ApM3JineZB6M",
        "outputId": "9cbf6f02-1f4e-4e16-af3c-57456a383b4b",
        "colab": {
          "base_uri": "https://localhost:8080/"
        }
      },
      "source": [
        "scores"
      ],
      "execution_count": 28,
      "outputs": [
        {
          "output_type": "execute_result",
          "data": {
            "text/plain": [
              "array([0.64093357, 0.6427289 , 0.61759425, 0.64631957, 0.63554758,\n",
              "       0.65107914, 0.64568345, 0.66366906, 0.66007194, 0.64568345])"
            ]
          },
          "metadata": {
            "tags": []
          },
          "execution_count": 28
        }
      ]
    },
    {
      "cell_type": "markdown",
      "metadata": {
        "id": "f3-pShdgRVH2"
      },
      "source": [
        "**Taxa de acerto**"
      ]
    },
    {
      "cell_type": "code",
      "metadata": {
        "id": "6GrzH-oaEARn",
        "outputId": "89f7b9ed-735d-49fa-8fdc-f19a158222e9",
        "colab": {
          "base_uri": "https://localhost:8080/"
        }
      },
      "source": [
        "scores.mean() #porcentagem de precisão"
      ],
      "execution_count": 29,
      "outputs": [
        {
          "output_type": "execute_result",
          "data": {
            "text/plain": [
              "0.6449310928277127"
            ]
          },
          "metadata": {
            "tags": []
          },
          "execution_count": 29
        }
      ]
    },
    {
      "cell_type": "markdown",
      "metadata": {
        "id": "6kuwHCx2P1Ah"
      },
      "source": [
        "**Métricas de avaliação**"
      ]
    },
    {
      "cell_type": "code",
      "metadata": {
        "id": "jS8OBxQmP4i-",
        "outputId": "1c970dd9-f91f-4f6d-a418-13a9af377cfe",
        "colab": {
          "base_uri": "https://localhost:8080/"
        }
      },
      "source": [
        "print('Accuracy: %.3f (%.3f)' % (mean(scores), std(scores)))"
      ],
      "execution_count": 30,
      "outputs": [
        {
          "output_type": "stream",
          "text": [
            "Accuracy: 0.645 (0.012)\n"
          ],
          "name": "stdout"
        }
      ]
    },
    {
      "cell_type": "markdown",
      "metadata": {
        "id": "T3dBPKR4RLwV"
      },
      "source": [
        "**Taxa de erro**"
      ]
    },
    {
      "cell_type": "code",
      "metadata": {
        "id": "MNjYthkinPOx",
        "outputId": "ef5a5093-da2a-4cfc-9188-bdb02e7c96a8",
        "colab": {
          "base_uri": "https://localhost:8080/"
        }
      },
      "source": [
        "taxa_erro = 1 - scores.mean()\n",
        "taxa_erro"
      ],
      "execution_count": 31,
      "outputs": [
        {
          "output_type": "execute_result",
          "data": {
            "text/plain": [
              "0.35506890717228734"
            ]
          },
          "metadata": {
            "tags": []
          },
          "execution_count": 31
        }
      ]
    }
  ]
}