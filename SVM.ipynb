{
  "nbformat": 4,
  "nbformat_minor": 0,
  "metadata": {
    "colab": {
      "name": "SVM - Análise preditiva da incidência e mortalidade da COVID-19.ipynb",
      "provenance": [],
      "collapsed_sections": [],
      "include_colab_link": true
    },
    "kernelspec": {
      "name": "python3",
      "display_name": "Python 3"
    }
  },
  "cells": [
    {
      "cell_type": "markdown",
      "metadata": {
        "id": "view-in-github",
        "colab_type": "text"
      },
      "source": [
        "<a href=\"https://colab.research.google.com/github/jorgewellison/classifiers-tcc/blob/main/SVM.ipynb\" target=\"_parent\"><img src=\"https://colab.research.google.com/assets/colab-badge.svg\" alt=\"Open In Colab\"/></a>"
      ]
    },
    {
      "cell_type": "markdown",
      "metadata": {
        "id": "EEUc8VhJVe2z"
      },
      "source": [
        "#**Configurações iniciais**"
      ]
    },
    {
      "cell_type": "code",
      "metadata": {
        "id": "TQwRq7E6MEm-",
        "colab": {
          "base_uri": "https://localhost:8080/"
        },
        "outputId": "47723276-30ad-46e7-b85e-399f6916ac09"
      },
      "source": [
        "from google.colab import drive\n",
        "drive.mount('/content/drive', force_remount=True)"
      ],
      "execution_count": 1,
      "outputs": [
        {
          "output_type": "stream",
          "text": [
            "Mounted at /content/drive\n"
          ],
          "name": "stdout"
        }
      ]
    },
    {
      "cell_type": "markdown",
      "metadata": {
        "id": "Rfuyj56F_ibU"
      },
      "source": [
        "**Importação das bibliotecas**"
      ]
    },
    {
      "cell_type": "code",
      "metadata": {
        "id": "LmZaRgSDBkBp",
        "colab": {
          "base_uri": "https://localhost:8080/"
        },
        "outputId": "31b2550f-7246-4038-8f9c-c89b27c4d53c"
      },
      "source": [
        "import pandas as pd\n",
        "import numpy as np\n",
        "from numpy import mean\n",
        "from numpy import std\n",
        "import seaborn as sns\n",
        "import sklearn.metrics as metrics\n",
        "import matplotlib.pyplot as plt\n",
        "from sklearn.model_selection import train_test_split, KFold\n",
        "from sklearn.preprocessing import LabelEncoder\n",
        "from sklearn.metrics import make_scorer, confusion_matrix, accuracy_score, precision_score, recall_score, f1_score\n",
        "from yellowbrick.classifier import ConfusionMatrix\n",
        "from sklearn.svm import SVC\n",
        "from sklearn.ensemble import ExtraTreesClassifier\n",
        "from sklearn.tree import DecisionTreeClassifier, export\n",
        "from sklearn.model_selection import cross_val_score, cross_val_predict, cross_validate\n",
        "from sklearn import preprocessing\n"
      ],
      "execution_count": 2,
      "outputs": [
        {
          "output_type": "stream",
          "text": [
            "/usr/local/lib/python3.6/dist-packages/sklearn/utils/deprecation.py:144: FutureWarning: The sklearn.metrics.classification module is  deprecated in version 0.22 and will be removed in version 0.24. The corresponding classes / functions should instead be imported from sklearn.metrics. Anything that cannot be imported from sklearn.metrics is now part of the private API.\n",
            "  warnings.warn(message, FutureWarning)\n",
            "/usr/local/lib/python3.6/dist-packages/sklearn/utils/deprecation.py:144: FutureWarning: The sklearn.tree.export module is  deprecated in version 0.22 and will be removed in version 0.24. The corresponding classes / functions should instead be imported from sklearn.tree. Anything that cannot be imported from sklearn.tree is now part of the private API.\n",
            "  warnings.warn(message, FutureWarning)\n"
          ],
          "name": "stderr"
        }
      ]
    },
    {
      "cell_type": "markdown",
      "metadata": {
        "id": "wPj8tkmaV1fi"
      },
      "source": [
        "**Importando previsores e classe (tratados no pré-processamento)**\n",
        "\n",
        "previsores -> variáveis independentes - X\n",
        "\n",
        "---\n",
        "\n",
        "\n",
        "\n",
        "classe -> variável dependente - y"
      ]
    },
    {
      "cell_type": "code",
      "metadata": {
        "id": "iJQWVjdVP-y0"
      },
      "source": [
        "previsores = pd.read_csv(\"/content/drive/My Drive/Colab Notebooks/covid-idhm/previsores_.csv\") \n",
        "classe_inc = pd.read_csv(\"/content/drive/My Drive/Colab Notebooks/covid-idhm/classe_inc.csv\") \n",
        "classe_mort = pd.read_csv(\"/content/drive/My Drive/Colab Notebooks/covid-idhm/classe_mort.csv\")"
      ],
      "execution_count": 3,
      "outputs": []
    },
    {
      "cell_type": "markdown",
      "metadata": {
        "id": "7A8NJ7eCDsch"
      },
      "source": [
        "#**Criação e treinamento dos modelos**"
      ]
    },
    {
      "cell_type": "markdown",
      "metadata": {
        "id": "m-J48fzKKsVO"
      },
      "source": [
        "##**Incidência**##"
      ]
    },
    {
      "cell_type": "markdown",
      "metadata": {
        "id": "XdvZkpl5Llzn"
      },
      "source": [
        "**Treinamento**\n",
        "\n",
        "---\n",
        "\n"
      ]
    },
    {
      "cell_type": "code",
      "metadata": {
        "id": "gwzov-ehL5hQ"
      },
      "source": [
        "svm_inc = SVC()\n",
        "svm_inc = svm_inc.fit(previsores, classe_inc.values.ravel())"
      ],
      "execution_count": 4,
      "outputs": []
    },
    {
      "cell_type": "markdown",
      "metadata": {
        "id": "u3MTNqjnKyqE"
      },
      "source": [
        "##**Mortalidade**##"
      ]
    },
    {
      "cell_type": "markdown",
      "metadata": {
        "id": "LTNk8D_SL07w"
      },
      "source": [
        "**Treinamento**\n",
        "\n",
        "---\n",
        "\n"
      ]
    },
    {
      "cell_type": "code",
      "metadata": {
        "id": "GLkUbq6Wpgbg",
        "colab": {
          "base_uri": "https://localhost:8080/"
        },
        "outputId": "70032599-0d53-45f0-e678-8366a86d8601"
      },
      "source": [
        "svm_mort = SVC()\n",
        "svm_mort.fit(previsores, classe_mort.values.ravel())"
      ],
      "execution_count": 5,
      "outputs": [
        {
          "output_type": "execute_result",
          "data": {
            "text/plain": [
              "SVC(C=1.0, break_ties=False, cache_size=200, class_weight=None, coef0=0.0,\n",
              "    decision_function_shape='ovr', degree=3, gamma='scale', kernel='rbf',\n",
              "    max_iter=-1, probability=False, random_state=None, shrinking=True,\n",
              "    tol=0.001, verbose=False)"
            ]
          },
          "metadata": {
            "tags": []
          },
          "execution_count": 5
        }
      ]
    },
    {
      "cell_type": "markdown",
      "metadata": {
        "id": "u9g8SEDLN51P"
      },
      "source": [
        "#**Testes com validação cruzada**"
      ]
    },
    {
      "cell_type": "markdown",
      "metadata": {
        "id": "Oe7rCwumLDuY"
      },
      "source": [
        "**Testes com validação cruzada**"
      ]
    },
    {
      "cell_type": "markdown",
      "metadata": {
        "id": "-vpuQSMzQO1D"
      },
      "source": [
        "**Criação do KFold com 10 iterações e Shuffle para embaralhar as linhas, desagrupando os municipios de seus estados**"
      ]
    },
    {
      "cell_type": "code",
      "metadata": {
        "id": "JD4LvtYUQVDi"
      },
      "source": [
        "cv = KFold(n_splits=10, random_state=0, shuffle=True)"
      ],
      "execution_count": 9,
      "outputs": []
    },
    {
      "cell_type": "code",
      "metadata": {
        "id": "sVJY9SpdZpPr"
      },
      "source": [
        "scoring = {'accuracy' : make_scorer(accuracy_score), \n",
        "           'precision' : make_scorer(precision_score, average = 'macro'),\n",
        "           'recall' : make_scorer(recall_score, average = 'macro'), \n",
        "           'f1_score' : make_scorer(f1_score, average = 'macro')}"
      ],
      "execution_count": 10,
      "outputs": []
    },
    {
      "cell_type": "markdown",
      "metadata": {
        "id": "3R-0-yWKr6k7"
      },
      "source": [
        "##Testes de incidência##"
      ]
    },
    {
      "cell_type": "code",
      "metadata": {
        "id": "zugRdG5upHs9",
        "colab": {
          "base_uri": "https://localhost:8080/"
        },
        "outputId": "e37814c6-629f-4c0b-9f94-c05b89ffa19f"
      },
      "source": [
        "scores = cross_validate(svm_inc,\n",
        "                             previsores,\n",
        "                             classe_inc.values.ravel(),\n",
        "                             scoring=scoring,\n",
        "                             cv=cv,\n",
        "                             return_train_score=False)"
      ],
      "execution_count": 13,
      "outputs": [
        {
          "output_type": "stream",
          "text": [
            "/usr/local/lib/python3.6/dist-packages/sklearn/metrics/_classification.py:1272: UndefinedMetricWarning: Precision is ill-defined and being set to 0.0 in labels with no predicted samples. Use `zero_division` parameter to control this behavior.\n",
            "  _warn_prf(average, modifier, msg_start, len(result))\n",
            "/usr/local/lib/python3.6/dist-packages/sklearn/metrics/_classification.py:1272: UndefinedMetricWarning: Precision is ill-defined and being set to 0.0 in labels with no predicted samples. Use `zero_division` parameter to control this behavior.\n",
            "  _warn_prf(average, modifier, msg_start, len(result))\n",
            "/usr/local/lib/python3.6/dist-packages/sklearn/metrics/_classification.py:1272: UndefinedMetricWarning: Precision is ill-defined and being set to 0.0 in labels with no predicted samples. Use `zero_division` parameter to control this behavior.\n",
            "  _warn_prf(average, modifier, msg_start, len(result))\n",
            "/usr/local/lib/python3.6/dist-packages/sklearn/metrics/_classification.py:1272: UndefinedMetricWarning: Precision is ill-defined and being set to 0.0 in labels with no predicted samples. Use `zero_division` parameter to control this behavior.\n",
            "  _warn_prf(average, modifier, msg_start, len(result))\n",
            "/usr/local/lib/python3.6/dist-packages/sklearn/metrics/_classification.py:1272: UndefinedMetricWarning: Precision is ill-defined and being set to 0.0 in labels with no predicted samples. Use `zero_division` parameter to control this behavior.\n",
            "  _warn_prf(average, modifier, msg_start, len(result))\n",
            "/usr/local/lib/python3.6/dist-packages/sklearn/metrics/_classification.py:1272: UndefinedMetricWarning: Precision is ill-defined and being set to 0.0 in labels with no predicted samples. Use `zero_division` parameter to control this behavior.\n",
            "  _warn_prf(average, modifier, msg_start, len(result))\n",
            "/usr/local/lib/python3.6/dist-packages/sklearn/metrics/_classification.py:1272: UndefinedMetricWarning: Precision is ill-defined and being set to 0.0 in labels with no predicted samples. Use `zero_division` parameter to control this behavior.\n",
            "  _warn_prf(average, modifier, msg_start, len(result))\n",
            "/usr/local/lib/python3.6/dist-packages/sklearn/metrics/_classification.py:1272: UndefinedMetricWarning: Precision is ill-defined and being set to 0.0 in labels with no predicted samples. Use `zero_division` parameter to control this behavior.\n",
            "  _warn_prf(average, modifier, msg_start, len(result))\n",
            "/usr/local/lib/python3.6/dist-packages/sklearn/metrics/_classification.py:1272: UndefinedMetricWarning: Precision is ill-defined and being set to 0.0 in labels with no predicted samples. Use `zero_division` parameter to control this behavior.\n",
            "  _warn_prf(average, modifier, msg_start, len(result))\n",
            "/usr/local/lib/python3.6/dist-packages/sklearn/metrics/_classification.py:1272: UndefinedMetricWarning: Precision is ill-defined and being set to 0.0 in labels with no predicted samples. Use `zero_division` parameter to control this behavior.\n",
            "  _warn_prf(average, modifier, msg_start, len(result))\n"
          ],
          "name": "stderr"
        }
      ]
    },
    {
      "cell_type": "markdown",
      "metadata": {
        "id": "itxRXmuatJfO"
      },
      "source": [
        "###Avaliação dos testes###"
      ]
    },
    {
      "cell_type": "code",
      "metadata": {
        "colab": {
          "base_uri": "https://localhost:8080/"
        },
        "id": "EvJMAgkYpjo0",
        "outputId": "56007c4b-e159-4584-ffab-d9768cd68324"
      },
      "source": [
        "scores"
      ],
      "execution_count": 14,
      "outputs": [
        {
          "output_type": "execute_result",
          "data": {
            "text/plain": [
              "{'fit_time': array([3.36645913, 3.40252256, 3.34540653, 3.31621504, 3.31653619,\n",
              "        3.26896858, 3.37005758, 3.37038374, 3.38485742, 3.32908225]),\n",
              " 'score_time': array([0.27720761, 0.27786922, 0.27997708, 0.27507949, 0.2731185 ,\n",
              "        0.26314974, 0.27947021, 0.27440667, 0.27867794, 0.2796576 ]),\n",
              " 'test_accuracy': array([0.61938959, 0.64631957, 0.59425494, 0.5978456 , 0.58707361,\n",
              "        0.59352518, 0.63129496, 0.64928058, 0.6205036 , 0.64208633]),\n",
              " 'test_f1_score': array([0.41938891, 0.44062688, 0.40656871, 0.39828993, 0.39547145,\n",
              "        0.39676246, 0.42672877, 0.44192612, 0.42115987, 0.43539153]),\n",
              " 'test_precision': array([0.4524027 , 0.47295699, 0.44959448, 0.44029316, 0.43559832,\n",
              "        0.44454756, 0.46363718, 0.46873563, 0.44935923, 0.46034913]),\n",
              " 'test_recall': array([0.45058651, 0.46880768, 0.44831095, 0.43074866, 0.43292129,\n",
              "        0.43492595, 0.46028932, 0.46891086, 0.45041816, 0.46353509])}"
            ]
          },
          "metadata": {
            "tags": []
          },
          "execution_count": 14
        }
      ]
    },
    {
      "cell_type": "markdown",
      "metadata": {
        "id": "MgstSgEEsBtR"
      },
      "source": [
        "##Testes de mortalidade##"
      ]
    },
    {
      "cell_type": "code",
      "metadata": {
        "id": "z2C0eVlj_w7A"
      },
      "source": [
        "#a função cross_validate recebe por parâmetro o modelo\n",
        "#todos os dados para treino, os dados de classes, a quandidade de folds e o metodo de avaliação\n",
        "\n",
        "scores2 = cross_validate(svm_mort, \n",
        "                         previsores, \n",
        "                         classe_mort.values.ravel(),\n",
        "                         scoring=scoring,\n",
        "                         cv=cv,\n",
        "                         return_train_score=False)"
      ],
      "execution_count": 16,
      "outputs": []
    },
    {
      "cell_type": "markdown",
      "metadata": {
        "id": "27wrMjUotSp6"
      },
      "source": [
        "###Avaliação dos testes###"
      ]
    },
    {
      "cell_type": "code",
      "metadata": {
        "colab": {
          "base_uri": "https://localhost:8080/"
        },
        "id": "XZw5eT-rqbXX",
        "outputId": "b4b1ab19-a079-4fc6-f9bf-d21776c00c61"
      },
      "source": [
        "scores2"
      ],
      "execution_count": 17,
      "outputs": [
        {
          "output_type": "execute_result",
          "data": {
            "text/plain": [
              "{'fit_time': array([3.64356399, 3.63520861, 3.65477467, 3.65852785, 3.66942668,\n",
              "        3.59854341, 3.66877294, 3.58970356, 3.66004896, 3.61767268]),\n",
              " 'score_time': array([0.28837562, 0.2916429 , 0.29654408, 0.2946074 , 0.2979908 ,\n",
              "        0.28176951, 0.28993797, 0.28904653, 0.29072714, 0.29289746]),\n",
              " 'test_accuracy': array([0.58527828, 0.59964093, 0.56014363, 0.58168761, 0.59066427,\n",
              "        0.57014388, 0.56834532, 0.60251799, 0.57733813, 0.56654676]),\n",
              " 'test_f1_score': array([0.47314738, 0.48625044, 0.42245746, 0.42336418, 0.45364374,\n",
              "        0.44833501, 0.43687426, 0.47093353, 0.45497906, 0.44725272]),\n",
              " 'test_precision': array([0.6771795 , 0.65726233, 0.57921577, 0.52130326, 0.75366692,\n",
              "        0.58915906, 0.65985782, 0.64934351, 0.63115834, 0.59337751]),\n",
              " 'test_recall': array([0.48043645, 0.50093673, 0.47015294, 0.46297004, 0.48925294,\n",
              "        0.47499445, 0.47635974, 0.5023292 , 0.4877551 , 0.48055723])}"
            ]
          },
          "metadata": {
            "tags": []
          },
          "execution_count": 17
        }
      ]
    },
    {
      "cell_type": "markdown",
      "metadata": {
        "id": "QQuH1jyqn__3"
      },
      "source": [
        "# **Predição e Matriz de confusão**"
      ]
    },
    {
      "cell_type": "markdown",
      "metadata": {
        "id": "CNReNSvGBK66"
      },
      "source": [
        "### Predição e Matriz da incidência"
      ]
    },
    {
      "cell_type": "code",
      "metadata": {
        "id": "7Pp5lz9yh1mf",
        "colab": {
          "base_uri": "https://localhost:8080/"
        },
        "outputId": "ce656e57-8705-4310-80cb-01e7e7d56014"
      },
      "source": [
        "predictions = cross_val_predict(svm_inc, previsores, classe_inc.values.ravel(), cv=cv)\n",
        "confusao = confusion_matrix(classe_inc.values.ravel(), predictions)\n",
        "confusao"
      ],
      "execution_count": 20,
      "outputs": [
        {
          "output_type": "execute_result",
          "data": {
            "text/plain": [
              "array([[1143,    0, 1491],\n",
              "       [  69,    0,  362],\n",
              "       [ 203,    0, 2297]])"
            ]
          },
          "metadata": {
            "tags": []
          },
          "execution_count": 20
        }
      ]
    },
    {
      "cell_type": "code",
      "metadata": {
        "id": "KpS6xnkaoGn2",
        "colab": {
          "base_uri": "https://localhost:8080/",
          "height": 373
        },
        "outputId": "db7e2fef-8af7-425f-b20e-4c9d735bb8d8"
      },
      "source": [
        "v = ConfusionMatrix(SVC())\n",
        "v.fit(previsores, classe_inc.values.ravel())\n",
        "v.score(previsores, predictions)\n",
        "v.poof()"
      ],
      "execution_count": 24,
      "outputs": [
        {
          "output_type": "display_data",
          "data": {
            "image/png": "[encoded data removed]",
            "text/plain": [
              "<Figure size 576x396 with 1 Axes>"
            ]
          },
          "metadata": {
            "tags": []
          }
        }
      ]
    },
    {
      "cell_type": "markdown",
      "metadata": {
        "id": "WRPYHSaiBPZQ"
      },
      "source": [
        "### Predição e Matriz da mortalidade"
      ]
    },
    {
      "cell_type": "code",
      "metadata": {
        "id": "NhvCjKyFATS1",
        "colab": {
          "base_uri": "https://localhost:8080/"
        },
        "outputId": "70e2780e-3262-41a5-bb83-3b95d6a8e258"
      },
      "source": [
        "predictions2 = cross_val_predict(svm_mort, previsores, classe_mort.values.ravel(), cv=cv)\n",
        "confusao2 = confusion_matrix(classe_mort.values.ravel(), predictions2)\n",
        "confusao2"
      ],
      "execution_count": 25,
      "outputs": [
        {
          "output_type": "execute_result",
          "data": {
            "text/plain": [
              "array([[1953,    3,  206],\n",
              "       [ 530,   58,  241],\n",
              "       [1327,   29, 1218]])"
            ]
          },
          "metadata": {
            "tags": []
          },
          "execution_count": 25
        }
      ]
    },
    {
      "cell_type": "code",
      "metadata": {
        "id": "piPB7HNPAeDw",
        "colab": {
          "base_uri": "https://localhost:8080/",
          "height": 373
        },
        "outputId": "77838934-7a37-4ae7-bdc1-554df1317b9f"
      },
      "source": [
        "v2 = ConfusionMatrix(SVC())\n",
        "v2.fit(previsores, classe_mort.values.ravel())\n",
        "v2.score(previsores, predictions2)\n",
        "v2.poof()"
      ],
      "execution_count": 28,
      "outputs": [
        {
          "output_type": "display_data",
          "data": {
            "image/png": "[encoded data removed]",
            "text/plain": [
              "<Figure size 576x396 with 1 Axes>"
            ]
          },
          "metadata": {
            "tags": []
          }
        }
      ]
    },
    {
      "cell_type": "markdown",
      "metadata": {
        "id": "6kuwHCx2P1Ah"
      },
      "source": [
        "# **Métricas de avaliação**"
      ]
    },
    {
      "cell_type": "markdown",
      "metadata": {
        "id": "tJ2DoAbBezaj"
      },
      "source": [
        "**Predição de Incidência**"
      ]
    },
    {
      "cell_type": "code",
      "metadata": {
        "colab": {
          "base_uri": "https://localhost:8080/"
        },
        "id": "_-mdlrzteoyL",
        "outputId": "e7e5a5a7-6651-45a2-b329-a95972489011"
      },
      "source": [
        "metrics.accuracy_score(classe_inc, predictions)"
      ],
      "execution_count": 29,
      "outputs": [
        {
          "output_type": "execute_result",
          "data": {
            "text/plain": [
              "0.6181491464510332"
            ]
          },
          "metadata": {
            "tags": []
          },
          "execution_count": 29
        }
      ]
    },
    {
      "cell_type": "code",
      "metadata": {
        "colab": {
          "base_uri": "https://localhost:8080/"
        },
        "id": "sBIbBsV6fj38",
        "outputId": "1e50c3d7-90a0-4fa5-e1ad-4492d7fb26e9"
      },
      "source": [
        "metrics.precision_score(classe_inc.values.ravel(), predictions, average=None)"
      ],
      "execution_count": 32,
      "outputs": [
        {
          "output_type": "stream",
          "text": [
            "/usr/local/lib/python3.6/dist-packages/sklearn/metrics/_classification.py:1272: UndefinedMetricWarning: Precision is ill-defined and being set to 0.0 in labels with no predicted samples. Use `zero_division` parameter to control this behavior.\n",
            "  _warn_prf(average, modifier, msg_start, len(result))\n"
          ],
          "name": "stderr"
        },
        {
          "output_type": "execute_result",
          "data": {
            "text/plain": [
              "array([0.80777385, 0.        , 0.55349398])"
            ]
          },
          "metadata": {
            "tags": []
          },
          "execution_count": 32
        }
      ]
    },
    {
      "cell_type": "code",
      "metadata": {
        "colab": {
          "base_uri": "https://localhost:8080/"
        },
        "id": "lfm8p2zughEW",
        "outputId": "5be575b5-bd81-46c9-d90a-b3e60f226078"
      },
      "source": [
        "metrics.recall_score(classe_inc, predictions, average=None)"
      ],
      "execution_count": 33,
      "outputs": [
        {
          "output_type": "execute_result",
          "data": {
            "text/plain": [
              "array([0.43394077, 0.        , 0.9188    ])"
            ]
          },
          "metadata": {
            "tags": []
          },
          "execution_count": 33
        }
      ]
    },
    {
      "cell_type": "code",
      "metadata": {
        "colab": {
          "base_uri": "https://localhost:8080/"
        },
        "id": "4KttVPCFgwpk",
        "outputId": "30378142-e923-4d08-caf5-6dac5c305d60"
      },
      "source": [
        "metrics.f1_score(classe_inc, predictions, average=None)"
      ],
      "execution_count": 34,
      "outputs": [
        {
          "output_type": "execute_result",
          "data": {
            "text/plain": [
              "array([0.56458385, 0.        , 0.69082707])"
            ]
          },
          "metadata": {
            "tags": []
          },
          "execution_count": 34
        }
      ]
    },
    {
      "cell_type": "markdown",
      "metadata": {
        "id": "1r9iVE3Ee2to"
      },
      "source": [
        "**Predição de Mortalidade**"
      ]
    },
    {
      "cell_type": "code",
      "metadata": {
        "colab": {
          "base_uri": "https://localhost:8080/"
        },
        "id": "tUNROdHPeylh",
        "outputId": "72445628-6687-48e4-c9f9-507b26c68bd8"
      },
      "source": [
        "metrics.accuracy_score(classe_mort, predictions2)"
      ],
      "execution_count": 35,
      "outputs": [
        {
          "output_type": "execute_result",
          "data": {
            "text/plain": [
              "0.5802336028751123"
            ]
          },
          "metadata": {
            "tags": []
          },
          "execution_count": 35
        }
      ]
    },
    {
      "cell_type": "code",
      "metadata": {
        "colab": {
          "base_uri": "https://localhost:8080/"
        },
        "id": "fwPLh0wHg5P9",
        "outputId": "e929d6e5-9230-46a0-8a4d-24ac273143d2"
      },
      "source": [
        "metrics.precision_score(classe_mort, predictions2, average=None)"
      ],
      "execution_count": 36,
      "outputs": [
        {
          "output_type": "execute_result",
          "data": {
            "text/plain": [
              "array([0.51259843, 0.64444444, 0.73153153])"
            ]
          },
          "metadata": {
            "tags": []
          },
          "execution_count": 36
        }
      ]
    },
    {
      "cell_type": "code",
      "metadata": {
        "colab": {
          "base_uri": "https://localhost:8080/"
        },
        "id": "E_csHcGog5P9",
        "outputId": "a35f4371-eacf-4d40-f44a-3f4b38c5702f"
      },
      "source": [
        "metrics.recall_score(classe_mort, predictions2, average=None)"
      ],
      "execution_count": 37,
      "outputs": [
        {
          "output_type": "execute_result",
          "data": {
            "text/plain": [
              "array([0.90333025, 0.06996381, 0.47319347])"
            ]
          },
          "metadata": {
            "tags": []
          },
          "execution_count": 37
        }
      ]
    },
    {
      "cell_type": "code",
      "metadata": {
        "colab": {
          "base_uri": "https://localhost:8080/"
        },
        "id": "F5QLOMW0g5P9",
        "outputId": "982e6064-4f46-44e8-b6ba-9a7e3bf441a0"
      },
      "source": [
        "metrics.f1_score(classe_mort, predictions2, average=None)"
      ],
      "execution_count": 38,
      "outputs": [
        {
          "output_type": "execute_result",
          "data": {
            "text/plain": [
              "array([0.65405224, 0.12622416, 0.57466384])"
            ]
          },
          "metadata": {
            "tags": []
          },
          "execution_count": 38
        }
      ]
    }
  ]
}